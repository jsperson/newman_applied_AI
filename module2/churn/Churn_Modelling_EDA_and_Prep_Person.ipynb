{
 "cells": [
  {
   "cell_type": "markdown",
   "metadata": {
    "application/vnd.databricks.v1+cell": {
     "cellMetadata": {
      "byteLimit": 2048000,
      "rowLimit": 10000
     },
     "inputWidgets": {},
     "nuid": "eff10bec-9390-4ad1-b1cf-92f2deb3cbd9",
     "showTitle": false,
     "tableResultSettingsMap": {},
     "title": ""
    },
    "id": "Y3qNnvYtdv_1"
   },
   "source": [
    "# Churn Modelling EDA — STARTER NOTEBOOK\n",
    "\n",
    "**Data Analytics @ Newman University**\n",
    "\n",
    "\n",
    "## About this Data Set\n",
    "**This data is from [the Churn-Modelling data set from Kaggle](https://www.kaggle.com/shubh0799/churn-modelling).**<br/>\n",
    "**Number of Records:** 10,000<br/>\n",
    "**Number of original fields:** 14 (including a supplied index)<br/>\n",
    "**Fields include:**\n",
    "- `RowNumber` - a supplied index\n",
    "- `CustomerId` - unique ID number for each customer\n",
    "- `Surname` - customer last name\n",
    "- `CreditScore` - customer credit score\n",
    "- `Geography` - the country in which the customer resides\n",
    "- `Gender` - Male or Female\n",
    "- `Age` - customer's age as integer\n",
    "- `Tenure` - number of years as a customer, in integers\n",
    "- `Balance` - customer's total bank balance\n",
    "- `NumOfProducts` - the number of banking products a custom participates in\n",
    "- `HasCrCard` - binary 0 or 1 indicating whether the customer has a bank credit card\n",
    "- `IsActiveMember` - binary 0 or 1 indicating whether the customer has been active within past ?? time period\n",
    "- `EstimatedSalary` - the customer's estimated salary\n",
    "- `Exited` - binary 0 or 1 indicating whether the customer has left the bank and closed all accounts"
   ]
  },
  {
   "cell_type": "markdown",
   "metadata": {
    "application/vnd.databricks.v1+cell": {
     "cellMetadata": {
      "byteLimit": 2048000,
      "rowLimit": 10000
     },
     "inputWidgets": {},
     "nuid": "5ec549af-4135-4ce3-92d2-c863786ebe5e",
     "showTitle": false,
     "tableResultSettingsMap": {},
     "title": ""
    },
    "id": "EPtu7efedv_4"
   },
   "source": [
    "# Import Libraries & Set Default Plot Attributes"
   ]
  },
  {
   "cell_type": "code",
   "execution_count": 0,
   "metadata": {
    "application/vnd.databricks.v1+cell": {
     "cellMetadata": {
      "byteLimit": 2048000,
      "rowLimit": 10000
     },
     "inputWidgets": {},
     "nuid": "48ea689c-2649-41b9-8934-0af8b33b07ff",
     "showTitle": false,
     "tableResultSettingsMap": {},
     "title": ""
    },
    "id": "BgT5Ty7tdv_7"
   },
   "outputs": [],
   "source": [
    "import numpy as np\n",
    "import pandas as pd\n",
    "import matplotlib.pyplot as plt\n",
    "import seaborn as sns\n",
    "%matplotlib inline"
   ]
  },
  {
   "cell_type": "code",
   "execution_count": 0,
   "metadata": {
    "application/vnd.databricks.v1+cell": {
     "cellMetadata": {
      "byteLimit": 2048000,
      "rowLimit": 10000
     },
     "inputWidgets": {},
     "nuid": "d9e3831b-7fe5-4ea7-a456-d4a3db008506",
     "showTitle": false,
     "tableResultSettingsMap": {},
     "title": ""
    },
    "id": "9PI_DZUaenh0"
   },
   "outputs": [],
   "source": [
    "# Customize seaborn plot styles\n",
    "# Seaborn docs: https://seaborn.pydata.org/tutorial/aesthetics.html\n",
    "\n",
    "# Adjust to retina quality\n",
    "import matplotlib_inline.backend_inline\n",
    "matplotlib_inline.backend_inline.set_matplotlib_formats(\"retina\")\n",
    "\n",
    "# Adjust dpi and font size\n",
    "sns.set(rc={\"figure.dpi\":100, 'savefig.dpi':300})\n",
    "sns.set_context('notebook', font_scale = 0.8)\n",
    "\n",
    "# Display tick marks\n",
    "sns.set_style('ticks')\n",
    "\n",
    "# Remove borders\n",
    "plt.rc('axes.spines', top=False, right=False, left=False, bottom=False)"
   ]
  },
  {
   "cell_type": "code",
   "execution_count": 0,
   "metadata": {
    "application/vnd.databricks.v1+cell": {
     "cellMetadata": {
      "byteLimit": 2048000,
      "rowLimit": 10000
     },
     "inputWidgets": {},
     "nuid": "c7960eff-4c52-41f2-b618-ccb6b3f5fee7",
     "showTitle": false,
     "tableResultSettingsMap": {},
     "title": ""
    },
    "id": "FDwdAOHteoVm"
   },
   "outputs": [],
   "source": [
    "# Color palettes for plots\n",
    "# Named colors: https://matplotlib.org/stable/gallery/color/named_colors.html\n",
    "# Seaborn color palette docs: https://seaborn.pydata.org/tutorial/color_palettes.html\n",
    "# Seaborn palette chart: https://www.codecademy.com/article/seaborn-design-ii\n",
    "\n",
    "# cp1 Color Palette - a binary blue/orange palette\n",
    "blue = 'deepskyblue' # Use 'skyblue' for a lighter blue\n",
    "orange = 'orange'\n",
    "cp1 = [blue, orange]\n",
    "\n",
    "# cp2 Palette - Reversed binary color order when needed for certain plots\n",
    "cp2 = [orange, blue]\n",
    "\n",
    "# cp5 Palette - 5 colors for use with categorical data\n",
    "turqoise = 'mediumaquamarine'\n",
    "salmon = 'darksalmon'\n",
    "tan = 'tan'\n",
    "gray = 'darkgray'\n",
    "cp5 = [blue, turqoise, salmon, tan, gray]\n",
    "\n",
    "# cpd Palette - blue-to-orange diverging palette for correlation heatmaps\n",
    "cpd = sns.diverging_palette(242, 39, s=100, l=65, n=11)\n",
    "\n",
    "# Set the default palette\n",
    "sns.set_palette(cp1)"
   ]
  },
  {
   "cell_type": "code",
   "execution_count": 0,
   "metadata": {
    "application/vnd.databricks.v1+cell": {
     "cellMetadata": {
      "byteLimit": 2048000,
      "rowLimit": 10000
     },
     "inputWidgets": {},
     "nuid": "dc5a1262-11d6-42f5-a6ca-5b2a6445af41",
     "showTitle": false,
     "tableResultSettingsMap": {},
     "title": ""
    },
    "colab": {
     "base_uri": "https://localhost:8080/",
     "height": 112
    },
    "id": "zmjMQ8FieuD8",
    "outputId": "b13d2c07-57d4-4ad0-d88f-ec6df16c0add"
   },
   "outputs": [],
   "source": [
    "# View cp1 color palette\n",
    "sns.palplot(cp1)"
   ]
  },
  {
   "cell_type": "code",
   "execution_count": 0,
   "metadata": {
    "application/vnd.databricks.v1+cell": {
     "cellMetadata": {
      "byteLimit": 2048000,
      "rowLimit": 10000
     },
     "inputWidgets": {},
     "nuid": "ea29275c-51af-400a-8810-a50beb8d4c0d",
     "showTitle": false,
     "tableResultSettingsMap": {},
     "title": ""
    }
   },
   "outputs": [],
   "source": [
    "# View cp2 color palette\n",
    "sns.palplot(cp2)"
   ]
  },
  {
   "cell_type": "code",
   "execution_count": 0,
   "metadata": {
    "application/vnd.databricks.v1+cell": {
     "cellMetadata": {
      "byteLimit": 2048000,
      "rowLimit": 10000
     },
     "inputWidgets": {},
     "nuid": "d97f10d8-2c4d-47d4-9a80-a765c365c871",
     "showTitle": false,
     "tableResultSettingsMap": {},
     "title": ""
    },
    "colab": {
     "base_uri": "https://localhost:8080/",
     "height": 112
    },
    "id": "5Sy7TBGnexFT",
    "outputId": "d9a9da58-31a9-4177-8f8c-66ec9661a0ab"
   },
   "outputs": [],
   "source": [
    "# View cp5 color palette\n",
    "sns.palplot(cp5)"
   ]
  },
  {
   "cell_type": "code",
   "execution_count": 0,
   "metadata": {
    "application/vnd.databricks.v1+cell": {
     "cellMetadata": {
      "byteLimit": 2048000,
      "rowLimit": 10000
     },
     "inputWidgets": {},
     "nuid": "5c56b7b0-0c5b-4d97-92d5-a1a7500761c8",
     "showTitle": false,
     "tableResultSettingsMap": {},
     "title": ""
    },
    "colab": {
     "base_uri": "https://localhost:8080/",
     "height": 112
    },
    "id": "dA6pnPuZexsY",
    "outputId": "a12661b7-7012-4171-ef04-6246b5cfa0a6"
   },
   "outputs": [],
   "source": [
    "# View cpd color palette\n",
    "sns.palplot(cpd)"
   ]
  },
  {
   "cell_type": "markdown",
   "metadata": {
    "_cell_guid": "79c7e3d0-c299-4dcb-8224-4455121ee9b0",
    "_uuid": "d629ff2d2480ee46fbb7e2d37f6b5fab8052498a",
    "application/vnd.databricks.v1+cell": {
     "cellMetadata": {
      "byteLimit": 2048000,
      "rowLimit": 10000
     },
     "inputWidgets": {},
     "nuid": "4fc0894d-a019-40bb-a4ac-f9c3ce791d38",
     "showTitle": false,
     "tableResultSettingsMap": {},
     "title": ""
    },
    "collapsed": true,
    "id": "ftNakW--dv_7"
   },
   "source": [
    "# Read and Review the Data"
   ]
  },
  {
   "cell_type": "code",
   "execution_count": 0,
   "metadata": {
    "application/vnd.databricks.v1+cell": {
     "cellMetadata": {
      "byteLimit": 2048000,
      "rowLimit": 10000
     },
     "inputWidgets": {},
     "nuid": "8b69f21b-c242-4d0b-a6de-fa1678641b6f",
     "showTitle": false,
     "tableResultSettingsMap": {},
     "title": ""
    },
    "colab": {
     "base_uri": "https://localhost:8080/"
    },
    "id": "O_-qPBPWfREF",
    "outputId": "5e9075db-454a-45b2-8d4e-92e0adff5039"
   },
   "outputs": [],
   "source": [
    "# If using Google Colab, uncomment the following two lines\n",
    "# from google.colab import drive\n",
    "# drive.mount('/content/drive')"
   ]
  },
  {
   "cell_type": "code",
   "execution_count": 0,
   "metadata": {
    "application/vnd.databricks.v1+cell": {
     "cellMetadata": {
      "byteLimit": 2048000,
      "rowLimit": 10000
     },
     "inputWidgets": {},
     "nuid": "7ee72640-d481-436d-8d7a-e3b37c777282",
     "showTitle": false,
     "tableResultSettingsMap": {},
     "title": ""
    },
    "colab": {
     "base_uri": "https://localhost:8080/",
     "height": 394
    },
    "id": "kqc0YqAudv_8",
    "outputId": "9304811c-0c09-43b1-fa5c-02a7e63b7647"
   },
   "outputs": [],
   "source": [
    "# Read the data\n",
    "# Use the provided RowNumber column as the index\n",
    "df = pd.read_csv('Churn_Modelling.csv', index_col = 'RowNumber')\n",
    "df.head(10)"
   ]
  },
  {
   "cell_type": "code",
   "execution_count": 0,
   "metadata": {
    "application/vnd.databricks.v1+cell": {
     "cellMetadata": {
      "byteLimit": 2048000,
      "rowLimit": 10000
     },
     "inputWidgets": {},
     "nuid": "288b6131-2de4-4d3d-a99b-9fe84a88d393",
     "showTitle": false,
     "tableResultSettingsMap": {},
     "title": ""
    },
    "colab": {
     "base_uri": "https://localhost:8080/"
    },
    "id": "GQy3Zj6ydv_8",
    "outputId": "4ad68dbd-6eca-40ac-a79b-4b2cf73ad042"
   },
   "outputs": [],
   "source": [
    "# Dataframe fundamental info\n",
    "df.info()"
   ]
  },
  {
   "cell_type": "markdown",
   "metadata": {
    "application/vnd.databricks.v1+cell": {
     "cellMetadata": {
      "byteLimit": 2048000,
      "rowLimit": 10000
     },
     "inputWidgets": {},
     "nuid": "f5791b89-4627-4fa9-bd60-b9424f7c93b2",
     "showTitle": false,
     "tableResultSettingsMap": {},
     "title": ""
    },
    "id": "pXo6gG6Edv_9"
   },
   "source": [
    "**NOTE: _No missing data!_** That's an issue we don't have to worry about with this data set."
   ]
  },
  {
   "cell_type": "code",
   "execution_count": 0,
   "metadata": {
    "application/vnd.databricks.v1+cell": {
     "cellMetadata": {
      "byteLimit": 2048000,
      "rowLimit": 10000
     },
     "inputWidgets": {},
     "nuid": "f1f8e1e1-a8c6-4261-9d6a-1804d9ac0444",
     "showTitle": false,
     "tableResultSettingsMap": {},
     "title": ""
    },
    "colab": {
     "base_uri": "https://localhost:8080/"
    },
    "id": "f1reQdRQKJkd",
    "outputId": "bae1fce2-ec72-4aba-f2c4-4f19e040923a"
   },
   "outputs": [],
   "source": [
    "# Check number of unique values per field\n",
    "df.nunique()"
   ]
  },
  {
   "cell_type": "markdown",
   "metadata": {
    "application/vnd.databricks.v1+cell": {
     "cellMetadata": {
      "byteLimit": 2048000,
      "rowLimit": 10000
     },
     "inputWidgets": {},
     "nuid": "b23a7b69-70d5-4099-8c87-fc34229f6097",
     "showTitle": false,
     "tableResultSettingsMap": {},
     "title": ""
    },
    "id": "5FeWoIzYKdxs"
   },
   "source": [
    "**Notes**:\n",
    "- There are 10,000 unique CustomerId's so we assume 10,000 unique customers.\n",
    "- Many customers share last names, but we will assume that's a reasonable proportion.\n",
    "- Fields with only a handful of unique values can be considered categorical (for text fields like Geography) or ordinal (for fields like NumOfProducts).\n",
    "- Four fields are binary (yes/no): Gender, HasCrCard, IsActiveMember, Exited (the target variable)."
   ]
  },
  {
   "cell_type": "markdown",
   "metadata": {
    "application/vnd.databricks.v1+cell": {
     "cellMetadata": {
      "byteLimit": 2048000,
      "rowLimit": 10000
     },
     "inputWidgets": {},
     "nuid": "1db27936-5ffc-435c-a4e1-2e6bccd3ef1c",
     "showTitle": false,
     "tableResultSettingsMap": {},
     "title": ""
    },
    "id": "exjQRKJzdwAF"
   },
   "source": [
    "# Drop Irrelevant Columns\n",
    "\n",
    "**These have no predictive value**:\n",
    "- CustomerId\n",
    "- Surname"
   ]
  },
  {
   "cell_type": "code",
   "execution_count": 0,
   "metadata": {
    "application/vnd.databricks.v1+cell": {
     "cellMetadata": {
      "byteLimit": 2048000,
      "rowLimit": 10000
     },
     "inputWidgets": {},
     "nuid": "2bf68978-07ea-4307-bccd-544d20cd4a54",
     "showTitle": false,
     "tableResultSettingsMap": {},
     "title": ""
    },
    "id": "56uRFHKDdwAG"
   },
   "outputs": [],
   "source": [
    "# Drop CustomerId and Surname\n",
    "df.drop(['CustomerId', 'Surname'], axis=1, inplace=True)"
   ]
  },
  {
   "cell_type": "markdown",
   "metadata": {
    "application/vnd.databricks.v1+cell": {
     "cellMetadata": {
      "byteLimit": 2048000,
      "rowLimit": 10000
     },
     "inputWidgets": {},
     "nuid": "c5c084ab-dded-4018-a5e1-a2d02a919be4",
     "showTitle": false,
     "tableResultSettingsMap": {},
     "title": ""
    },
    "id": "6DuZI308dv_-"
   },
   "source": [
    "## Explore Target Variable: Exited\n",
    "- Exited = 0 --> did not leave our company\n",
    "- Exited = 1 --> left the company"
   ]
  },
  {
   "cell_type": "code",
   "execution_count": 0,
   "metadata": {
    "application/vnd.databricks.v1+cell": {
     "cellMetadata": {
      "byteLimit": 2048000,
      "rowLimit": 10000
     },
     "inputWidgets": {},
     "nuid": "88c27d2f-7d2a-442f-85b4-cc39e3b803db",
     "showTitle": false,
     "tableResultSettingsMap": {},
     "title": ""
    },
    "colab": {
     "base_uri": "https://localhost:8080/"
    },
    "id": "mA9mfPj_dv_-",
    "outputId": "fd7b570c-62fc-46c1-cd78-a7b86e8084fe"
   },
   "outputs": [],
   "source": [
    "# Of these 10,000, how many exited?\n",
    "df['Exited'].value_counts()"
   ]
  },
  {
   "cell_type": "code",
   "execution_count": 0,
   "metadata": {
    "application/vnd.databricks.v1+cell": {
     "cellMetadata": {
      "byteLimit": 2048000,
      "rowLimit": 10000
     },
     "inputWidgets": {},
     "nuid": "6551451e-da60-4905-87aa-49b71c7bac28",
     "showTitle": false,
     "tableResultSettingsMap": {},
     "title": ""
    },
    "colab": {
     "base_uri": "https://localhost:8080/",
     "height": 382
    },
    "id": "xeHBGs50M7C5",
    "outputId": "9d58756e-e738-4e03-eec8-8c76d5e64636"
   },
   "outputs": [],
   "source": [
    "# Countplot\n",
    "plt.title(\"Count of Exited: 0 or 1\", fontsize=14, fontweight='bold')\n",
    "ax = sns.countplot(data=df, x='Exited');\n",
    "# ax.set(xlabel = 'Custom x axis label', ylabel='Custom y axis label');"
   ]
  },
  {
   "cell_type": "markdown",
   "metadata": {
    "application/vnd.databricks.v1+cell": {
     "cellMetadata": {
      "byteLimit": 2048000,
      "rowLimit": 10000
     },
     "inputWidgets": {},
     "nuid": "4992b665-0cf1-4df1-b674-ed5064afad3a",
     "showTitle": false,
     "tableResultSettingsMap": {},
     "title": ""
    },
    "id": "0NZxogycdv__"
   },
   "source": [
    "**2037 or 20.37% of our customers exited.**"
   ]
  },
  {
   "cell_type": "markdown",
   "metadata": {
    "application/vnd.databricks.v1+cell": {
     "cellMetadata": {
      "byteLimit": 2048000,
      "rowLimit": 10000
     },
     "inputWidgets": {},
     "nuid": "e5907c49-53a2-4597-a757-3114b4cece82",
     "showTitle": false,
     "tableResultSettingsMap": {},
     "title": ""
    },
    "id": "2ie89hBUdv__"
   },
   "source": [
    "# Explore Continuous Features\n",
    "We'll explore these features, which are continuous:\n",
    "- CreditScore\n",
    "- Age\n",
    "- Tenure\n",
    "- Balance\n",
    "- Estimated Salary\n",
    "\n",
    "Keep Exited as the target variable for analysis"
   ]
  },
  {
   "cell_type": "code",
   "execution_count": 0,
   "metadata": {
    "application/vnd.databricks.v1+cell": {
     "cellMetadata": {
      "byteLimit": 2048000,
      "rowLimit": 10000
     },
     "inputWidgets": {},
     "nuid": "8fc7f4c6-df4e-4cf5-8ee3-d974fd056202",
     "showTitle": false,
     "tableResultSettingsMap": {},
     "title": ""
    },
    "id": "-FuC39bxdv__"
   },
   "outputs": [],
   "source": [
    "# Create a variable to filter for our continuous features\n",
    "cont = ['Exited','CreditScore','Age','Tenure','Balance','EstimatedSalary']"
   ]
  },
  {
   "cell_type": "code",
   "execution_count": 0,
   "metadata": {
    "application/vnd.databricks.v1+cell": {
     "cellMetadata": {
      "byteLimit": 2048000,
      "rowLimit": 10000
     },
     "inputWidgets": {},
     "nuid": "8cb9799e-242b-4977-86b4-8d66e33afd07",
     "showTitle": false,
     "tableResultSettingsMap": {},
     "title": ""
    },
    "id": "AB6AQCktuMez"
   },
   "outputs": [],
   "source": [
    "# View summary stats for continuous features\n",
    "# Round the output to two decimals for easier reading. See: https://gist.github.com/data-enhanced/0c48586f36e8cd27ffad8fe076d62c4e\n",
    "df[cont].describe().apply(lambda s: s.apply('{:,.2f}'.format))"
   ]
  },
  {
   "cell_type": "code",
   "execution_count": 0,
   "metadata": {
    "application/vnd.databricks.v1+cell": {
     "cellMetadata": {
      "byteLimit": 2048000,
      "rowLimit": 10000
     },
     "inputWidgets": {},
     "nuid": "267d20a9-7c4a-4aa0-8849-5ca6bc3dc0d7",
     "showTitle": false,
     "tableResultSettingsMap": {},
     "title": ""
    },
    "id": "i5dpGEyudwAA"
   },
   "outputs": [],
   "source": [
    "# Group by Exited and view the mean for each continuous variable\n",
    "# Round the output to two decimals for easier reading\n",
    "df[cont].groupby('Exited').mean().apply(lambda s: s.apply('{:,.2f}'.format))"
   ]
  },
  {
   "cell_type": "markdown",
   "metadata": {
    "application/vnd.databricks.v1+cell": {
     "cellMetadata": {
      "byteLimit": 2048000,
      "rowLimit": 10000
     },
     "inputWidgets": {},
     "nuid": "0a679254-ab83-4cfb-a5fc-c73e94b68a46",
     "showTitle": false,
     "tableResultSettingsMap": {},
     "title": ""
    },
    "id": "40Jvy9AGdwAA"
   },
   "source": [
    "**Observation on above:** There are no huge and obvious differences between the mean scores across these variables for customers who did or did not exit. The widest gaps in means are for Age and Balance, then CreditScore and NumOfProducts. Those who exited are on average older with a larger balance, slightly fewer avg products, and a slightly lower avg CreditScore."
   ]
  },
  {
   "cell_type": "markdown",
   "metadata": {
    "application/vnd.databricks.v1+cell": {
     "cellMetadata": {
      "byteLimit": 2048000,
      "rowLimit": 10000
     },
     "inputWidgets": {},
     "nuid": "fbdb98cb-48ab-41b4-a9b2-3221c45ef734",
     "showTitle": false,
     "tableResultSettingsMap": {},
     "title": ""
    },
    "id": "xGfVpUlHdwAB"
   },
   "source": [
    "## CreditScore"
   ]
  },
  {
   "cell_type": "code",
   "execution_count": 0,
   "metadata": {
    "application/vnd.databricks.v1+cell": {
     "cellMetadata": {
      "byteLimit": 2048000,
      "rowLimit": 10000
     },
     "inputWidgets": {},
     "nuid": "f83918a6-0158-4f0d-b594-1786b50dc375",
     "showTitle": false,
     "tableResultSettingsMap": {},
     "title": ""
    }
   },
   "outputs": [],
   "source": [
    "# Basic Stats\n",
    "df[['CreditScore','Exited']].groupby('Exited').describe().apply(lambda s: s.apply('{:,.2f}'.format))"
   ]
  },
  {
   "cell_type": "code",
   "execution_count": 0,
   "metadata": {
    "application/vnd.databricks.v1+cell": {
     "cellMetadata": {
      "byteLimit": 2048000,
      "rowLimit": 10000
     },
     "inputWidgets": {},
     "nuid": "6ee8af27-6327-439d-acdd-bd95f9cec074",
     "showTitle": false,
     "tableResultSettingsMap": {},
     "title": ""
    }
   },
   "outputs": [],
   "source": [
    "# Box Plots\n",
    "plt.title(\"CreditScore Distributions Comparison\", fontsize=14, fontweight='bold')\n",
    "ax = sns.boxplot(data=df, x='CreditScore', y='Exited', orient='h');\n",
    "# ax.set(xlabel = 'Custom x axis label', ylabel='Custom y axis label');"
   ]
  },
  {
   "cell_type": "code",
   "execution_count": 0,
   "metadata": {
    "application/vnd.databricks.v1+cell": {
     "cellMetadata": {
      "byteLimit": 2048000,
      "rowLimit": 10000
     },
     "inputWidgets": {},
     "nuid": "dab11c50-7d15-4597-83fc-c758abf90375",
     "showTitle": false,
     "tableResultSettingsMap": {},
     "title": ""
    }
   },
   "outputs": [],
   "source": [
    "# Violin Plots\n",
    "plt.title(\"CreditScore Distributions Comparison\", fontsize=14, fontweight='bold')\n",
    "ax = sns.violinplot(data=df, x='CreditScore', y='Exited', orient='h');\n",
    "# ax.set(xlabel = 'Custom x axis label', ylabel='Custom y axis label');"
   ]
  },
  {
   "cell_type": "code",
   "execution_count": 0,
   "metadata": {
    "application/vnd.databricks.v1+cell": {
     "cellMetadata": {
      "byteLimit": 2048000,
      "rowLimit": 10000
     },
     "inputWidgets": {},
     "nuid": "ed5915ac-3f13-49cd-9026-f0427b66ac67",
     "showTitle": false,
     "tableResultSettingsMap": {},
     "title": ""
    },
    "id": "IY_axO3OdwAB"
   },
   "outputs": [],
   "source": [
    "# Histogram\n",
    "# Control hue_order and palette to display minority class in orange on top: hue_order=1,0 and palette=cp2\n",
    "plt.figure(figsize=(8,4))\n",
    "plt.title(\"CreditScore Distributions Comparison\", fontsize=14, fontweight='bold')\n",
    "ax = sns.histplot(data=df, x='CreditScore', hue='Exited', hue_order=[1,0], palette=cp2, binwidth=25, alpha=0.75);\n",
    "# ax.set(xlabel = 'Custom x axis label', ylabel='Custom y axis label');"
   ]
  },
  {
   "cell_type": "markdown",
   "metadata": {
    "application/vnd.databricks.v1+cell": {
     "cellMetadata": {
      "byteLimit": 2048000,
      "rowLimit": 10000
     },
     "inputWidgets": {},
     "nuid": "3c3a4d68-d92c-414d-9c7c-84447eab8468",
     "showTitle": false,
     "tableResultSettingsMap": {},
     "title": ""
    },
    "id": "yOXV1NP0dwAB"
   },
   "source": [
    "**Interpretation:** The distributions for Exited/Non-Exited CreditScores are nearly identical. Those who exited peak at just a slightly lower CreditScore (625) than those who did not (675)."
   ]
  },
  {
   "cell_type": "markdown",
   "metadata": {
    "application/vnd.databricks.v1+cell": {
     "cellMetadata": {
      "byteLimit": 2048000,
      "rowLimit": 10000
     },
     "inputWidgets": {},
     "nuid": "37119f27-0492-4945-b0af-16761e57072e",
     "showTitle": false,
     "tableResultSettingsMap": {},
     "title": ""
    }
   },
   "source": [
    "## Age"
   ]
  },
  {
   "cell_type": "code",
   "execution_count": 0,
   "metadata": {
    "application/vnd.databricks.v1+cell": {
     "cellMetadata": {
      "byteLimit": 2048000,
      "rowLimit": 10000
     },
     "inputWidgets": {},
     "nuid": "cba773aa-b801-4fc7-b6c8-d80133f207cf",
     "showTitle": false,
     "tableResultSettingsMap": {},
     "title": ""
    },
    "id": "IY_axO3OdwAB"
   },
   "outputs": [],
   "source": [
    "# Histogram\n",
    "# Control hue_order and palette to display minority class in orange on top: hue_order=1,0 and palette=cp2\n",
    "plt.figure(figsize=(8,4))\n",
    "plt.title(\"Age Distribution Comparison\", fontsize=14, fontweight='bold')\n",
    "ax = sns.histplot(data=df, x='Age', hue='Exited', hue_order=[1,0], palette=cp2, binwidth=5, alpha=0.75);\n",
    "# ax.set(xlabel = 'Custom x axis label', ylabel='Custom y axis label');"
   ]
  },
  {
   "cell_type": "code",
   "execution_count": 0,
   "metadata": {
    "application/vnd.databricks.v1+cell": {
     "cellMetadata": {
      "byteLimit": 2048000,
      "rowLimit": 10000
     },
     "inputWidgets": {},
     "nuid": "6c82455f-607b-4f32-9381-0fa7c3fc5e1f",
     "showTitle": false,
     "tableResultSettingsMap": {},
     "title": ""
    }
   },
   "outputs": [],
   "source": [
    "# Violin Plots\n",
    "plt.title(\"Age Distribution Comparison\", fontsize=14, fontweight='bold')\n",
    "ax = sns.violinplot(data=df, x='Age', y='Exited', orient='h');\n",
    "# ax.set(xlabel = 'Custom x axis label', ylabel='Custom y axis label');"
   ]
  },
  {
   "cell_type": "code",
   "execution_count": 0,
   "metadata": {
    "application/vnd.databricks.v1+cell": {
     "cellMetadata": {
      "byteLimit": 2048000,
      "rowLimit": 10000
     },
     "inputWidgets": {},
     "nuid": "8c9a955d-2495-44ca-947c-c1f36b498cf0",
     "showTitle": false,
     "tableResultSettingsMap": {},
     "title": ""
    },
    "scrolled": false
   },
   "outputs": [],
   "source": [
    "# Box Plots\n",
    "plt.title(\"Age Distribution Comparison\", fontsize=14, fontweight='bold')\n",
    "ax = sns.boxplot(data=df, x='Age', y='Exited', orient='h');\n",
    "# ax.set(xlabel = 'Custom x axis label', ylabel='Custom y axis label');"
   ]
  },
  {
   "cell_type": "code",
   "execution_count": 0,
   "metadata": {
    "application/vnd.databricks.v1+cell": {
     "cellMetadata": {
      "byteLimit": 2048000,
      "rowLimit": 10000
     },
     "inputWidgets": {},
     "nuid": "76762066-a6e0-4d8f-9e8e-01356862a5a9",
     "showTitle": false,
     "tableResultSettingsMap": {},
     "title": ""
    }
   },
   "outputs": [],
   "source": [
    "# Basic Stats\n",
    "df[['Age','Exited']].groupby('Exited').describe().apply(lambda s: s.apply('{:,.2f}'.format))"
   ]
  },
  {
   "cell_type": "markdown",
   "metadata": {
    "application/vnd.databricks.v1+cell": {
     "cellMetadata": {
      "byteLimit": 2048000,
      "rowLimit": 10000
     },
     "inputWidgets": {},
     "nuid": "23f7d86a-1d15-492e-bde2-31c0ae3539f1",
     "showTitle": false,
     "tableResultSettingsMap": {},
     "title": ""
    },
    "id": "yOXV1NP0dwAB"
   },
   "source": [
    "**Interpretation:** Those who exited were significantly older than those who did not. Average age of exiters is aboutr 45 vs. 37 for those who remained customers."
   ]
  },
  {
   "cell_type": "markdown",
   "metadata": {
    "application/vnd.databricks.v1+cell": {
     "cellMetadata": {
      "byteLimit": 2048000,
      "rowLimit": 10000
     },
     "inputWidgets": {},
     "nuid": "ddd02a01-08f5-4834-ac8c-3c163f11585b",
     "showTitle": false,
     "tableResultSettingsMap": {},
     "title": ""
    }
   },
   "source": [
    "## Tenure"
   ]
  },
  {
   "cell_type": "code",
   "execution_count": 0,
   "metadata": {
    "application/vnd.databricks.v1+cell": {
     "cellMetadata": {
      "byteLimit": 2048000,
      "rowLimit": 10000
     },
     "inputWidgets": {},
     "nuid": "bbe8ef0c-5573-4feb-85a2-a028e0aa8cfd",
     "showTitle": false,
     "tableResultSettingsMap": {},
     "title": ""
    },
    "id": "IY_axO3OdwAB"
   },
   "outputs": [],
   "source": [
    "# Histogram\n",
    "# Control hue_order and palette to display minority class in orange on top: hue_order=1,0 and palette=cp2\n",
    "plt.figure(figsize=(8,4))\n",
    "plt.title(\"Tenure Distribution Comparison\", fontsize=14, fontweight='bold')\n",
    "ax = sns.histplot(data=df, x='Tenure', hue='Exited', hue_order=[1,0], palette=cp2, binwidth=1, alpha=0.75);\n",
    "# ax.set(xlabel = 'Custom x axis label', ylabel='Custom y axis label');"
   ]
  },
  {
   "cell_type": "code",
   "execution_count": 0,
   "metadata": {
    "application/vnd.databricks.v1+cell": {
     "cellMetadata": {
      "byteLimit": 2048000,
      "rowLimit": 10000
     },
     "inputWidgets": {},
     "nuid": "2dfb9889-d557-4475-a091-60616afe091c",
     "showTitle": false,
     "tableResultSettingsMap": {},
     "title": ""
    }
   },
   "outputs": [],
   "source": [
    "# Violin Plots\n",
    "plt.title(\"Tenure Distribution Comparison\", fontsize=14, fontweight='bold')\n",
    "ax = sns.violinplot(data=df, x='Tenure', y='Exited', orient='h');\n",
    "# ax.set(xlabel = 'Custom x axis label', ylabel='Custom y axis label');"
   ]
  },
  {
   "cell_type": "code",
   "execution_count": 0,
   "metadata": {
    "application/vnd.databricks.v1+cell": {
     "cellMetadata": {
      "byteLimit": 2048000,
      "rowLimit": 10000
     },
     "inputWidgets": {},
     "nuid": "e8ecc2c9-9108-4cb0-a4b6-87817a4623e1",
     "showTitle": false,
     "tableResultSettingsMap": {},
     "title": ""
    },
    "scrolled": false
   },
   "outputs": [],
   "source": [
    "# Box Plots\n",
    "plt.title(\"Tenure Distribution Comparison\", fontsize=14, fontweight='bold')\n",
    "ax = sns.boxplot(data=df, x='Tenure', y='Exited', orient='h');\n",
    "# ax.set(xlabel = 'Custom x axis label', ylabel='Custom y axis label');"
   ]
  },
  {
   "cell_type": "code",
   "execution_count": 0,
   "metadata": {
    "application/vnd.databricks.v1+cell": {
     "cellMetadata": {
      "byteLimit": 2048000,
      "rowLimit": 10000
     },
     "inputWidgets": {},
     "nuid": "8ca22299-03e2-4247-ab56-bcf548f3c495",
     "showTitle": false,
     "tableResultSettingsMap": {},
     "title": ""
    }
   },
   "outputs": [],
   "source": [
    "# Basic Stats\n",
    "df[['Tenure','Exited']].groupby('Exited').describe().apply(lambda s: s.apply('{:,.2f}'.format))"
   ]
  },
  {
   "cell_type": "markdown",
   "metadata": {
    "application/vnd.databricks.v1+cell": {
     "cellMetadata": {
      "byteLimit": 2048000,
      "rowLimit": 10000
     },
     "inputWidgets": {},
     "nuid": "b47a7c8e-879d-4ce4-93ab-e884adcdd5dc",
     "showTitle": false,
     "tableResultSettingsMap": {},
     "title": ""
    },
    "id": "yOXV1NP0dwAB"
   },
   "source": [
    "**Interpretation:** There is no discernable differenece for those who exited or did not with respect to tenure."
   ]
  },
  {
   "cell_type": "markdown",
   "metadata": {
    "application/vnd.databricks.v1+cell": {
     "cellMetadata": {
      "byteLimit": 2048000,
      "rowLimit": 10000
     },
     "inputWidgets": {},
     "nuid": "fdf14311-4e10-483f-aa98-4d022aa8ab1e",
     "showTitle": false,
     "tableResultSettingsMap": {},
     "title": ""
    }
   },
   "source": [
    "## Balance"
   ]
  },
  {
   "cell_type": "code",
   "execution_count": 0,
   "metadata": {
    "application/vnd.databricks.v1+cell": {
     "cellMetadata": {
      "byteLimit": 2048000,
      "rowLimit": 10000
     },
     "inputWidgets": {},
     "nuid": "2c82604b-9140-4fd4-9c7b-bdecaf08ad0a",
     "showTitle": false,
     "tableResultSettingsMap": {},
     "title": ""
    },
    "id": "IY_axO3OdwAB"
   },
   "outputs": [],
   "source": [
    "# Histogram\n",
    "# Control hue_order and palette to display minority class in orange on top: hue_order=1,0 and palette=cp2\n",
    "plt.figure(figsize=(8,4))\n",
    "plt.title(\"Balance Distribution Comparison\", fontsize=14, fontweight='bold')\n",
    "ax = sns.histplot(data=df, x='Balance', hue='Exited', hue_order=[1,0], palette=cp2, bins=10, alpha=0.75);\n",
    "# ax.set(xlabel = 'Custom x axis label', ylabel='Custom y axis label');"
   ]
  },
  {
   "cell_type": "code",
   "execution_count": 0,
   "metadata": {
    "application/vnd.databricks.v1+cell": {
     "cellMetadata": {
      "byteLimit": 2048000,
      "rowLimit": 10000
     },
     "inputWidgets": {},
     "nuid": "2f85c974-0001-4d1d-aea7-64251ecabfd9",
     "showTitle": false,
     "tableResultSettingsMap": {},
     "title": ""
    }
   },
   "outputs": [],
   "source": [
    "# Violin Plots\n",
    "plt.title(\"Balance Distribution Comparison\", fontsize=14, fontweight='bold')\n",
    "ax = sns.violinplot(data=df, x='Balance', y='Exited', orient='h');\n",
    "# ax.set(xlabel = 'Custom x axis label', ylabel='Custom y axis label');"
   ]
  },
  {
   "cell_type": "code",
   "execution_count": 0,
   "metadata": {
    "application/vnd.databricks.v1+cell": {
     "cellMetadata": {
      "byteLimit": 2048000,
      "rowLimit": 10000
     },
     "inputWidgets": {},
     "nuid": "7c0d3910-8e92-4ed7-a5d0-79ad16a25a9d",
     "showTitle": false,
     "tableResultSettingsMap": {},
     "title": ""
    },
    "scrolled": false
   },
   "outputs": [],
   "source": [
    "# Box Plots\n",
    "plt.title(\"Balance Distribution Comparison\", fontsize=14, fontweight='bold')\n",
    "ax = sns.boxplot(data=df, x='Balance', y='Exited', orient='h');\n",
    "# ax.set(xlabel = 'Custom x axis label', ylabel='Custom y axis label');"
   ]
  },
  {
   "cell_type": "code",
   "execution_count": 0,
   "metadata": {
    "application/vnd.databricks.v1+cell": {
     "cellMetadata": {
      "byteLimit": 2048000,
      "rowLimit": 10000
     },
     "inputWidgets": {},
     "nuid": "620eba80-1d79-4fce-a09f-50217b79486d",
     "showTitle": false,
     "tableResultSettingsMap": {},
     "title": ""
    }
   },
   "outputs": [],
   "source": [
    "# Basic Stats\n",
    "df[['Balance','Exited']].groupby('Exited').describe().apply(lambda s: s.apply('{:,.2f}'.format))"
   ]
  },
  {
   "cell_type": "markdown",
   "metadata": {
    "application/vnd.databricks.v1+cell": {
     "cellMetadata": {
      "byteLimit": 2048000,
      "rowLimit": 10000
     },
     "inputWidgets": {},
     "nuid": "bb3529b2-f392-42f1-86ef-6ffca17c2100",
     "showTitle": false,
     "tableResultSettingsMap": {},
     "title": ""
    },
    "id": "yOXV1NP0dwAB"
   },
   "source": [
    "**Interpretation:** Customers who exited had a somewhat larger balance than those who did not. This is not as good of an indicator as Age, but there is probably some value here."
   ]
  },
  {
   "cell_type": "markdown",
   "metadata": {
    "application/vnd.databricks.v1+cell": {
     "cellMetadata": {
      "byteLimit": 2048000,
      "rowLimit": 10000
     },
     "inputWidgets": {},
     "nuid": "ff8bf2ef-85d9-488f-b3b5-d1321b85f17c",
     "showTitle": false,
     "tableResultSettingsMap": {},
     "title": ""
    }
   },
   "source": [
    "## EstimatedSalary"
   ]
  },
  {
   "cell_type": "code",
   "execution_count": 0,
   "metadata": {
    "application/vnd.databricks.v1+cell": {
     "cellMetadata": {
      "byteLimit": 2048000,
      "rowLimit": 10000
     },
     "inputWidgets": {},
     "nuid": "9ee38fc7-19d2-4f7c-b580-6a60a8f5ec38",
     "showTitle": false,
     "tableResultSettingsMap": {},
     "title": ""
    },
    "id": "IY_axO3OdwAB"
   },
   "outputs": [],
   "source": [
    "# Histogram\n",
    "# Control hue_order and palette to display minority class in orange on top: hue_order=1,0 and palette=cp2\n",
    "plt.figure(figsize=(8,4))\n",
    "plt.title(\"Estimated Salary Distribution Comparison\", fontsize=14, fontweight='bold')\n",
    "ax = sns.histplot(data=df, x='EstimatedSalary', hue='Exited', hue_order=[1,0], palette=cp2, bins=10, alpha=0.75);\n",
    "# ax.set(xlabel = 'Custom x axis label', ylabel='Custom y axis label');\n"
   ]
  },
  {
   "cell_type": "code",
   "execution_count": 0,
   "metadata": {
    "application/vnd.databricks.v1+cell": {
     "cellMetadata": {
      "byteLimit": 2048000,
      "rowLimit": 10000
     },
     "inputWidgets": {},
     "nuid": "74ca7536-53c0-485f-9b06-baf1e7d62719",
     "showTitle": false,
     "tableResultSettingsMap": {},
     "title": ""
    }
   },
   "outputs": [],
   "source": [
    "# Violin Plots\n",
    "plt.title(\"Estimated Salary Distribution Comparison\", fontsize=14, fontweight='bold')\n",
    "ax = sns.violinplot(data=df, x='EstimatedSalary', y='Exited', orient='h');\n",
    "# ax.set(xlabel = 'Custom x axis label', ylabel='Custom y axis label');"
   ]
  },
  {
   "cell_type": "code",
   "execution_count": 0,
   "metadata": {
    "application/vnd.databricks.v1+cell": {
     "cellMetadata": {
      "byteLimit": 2048000,
      "rowLimit": 10000
     },
     "inputWidgets": {},
     "nuid": "735749ce-b874-4be8-840b-b060ccc901b2",
     "showTitle": false,
     "tableResultSettingsMap": {},
     "title": ""
    },
    "scrolled": false
   },
   "outputs": [],
   "source": [
    "# Box Plots\n",
    "plt.title(\"Estimated Salary Distribution Comparison\", fontsize=14, fontweight='bold')\n",
    "ax = sns.boxplot(data=df, x='EstimatedSalary', y='Exited', orient='h');\n",
    "# ax.set(xlabel = 'Custom x axis label', ylabel='Custom y axis label');"
   ]
  },
  {
   "cell_type": "code",
   "execution_count": 0,
   "metadata": {
    "application/vnd.databricks.v1+cell": {
     "cellMetadata": {
      "byteLimit": 2048000,
      "rowLimit": 10000
     },
     "inputWidgets": {},
     "nuid": "03fa067c-022c-48a5-be16-f2319ed81024",
     "showTitle": false,
     "tableResultSettingsMap": {},
     "title": ""
    }
   },
   "outputs": [],
   "source": [
    "# Basic Stats\n",
    "df[['EstimatedSalary','Exited']].groupby('Exited').describe().apply(lambda s: s.apply('{:,.2f}'.format))"
   ]
  },
  {
   "cell_type": "markdown",
   "metadata": {
    "application/vnd.databricks.v1+cell": {
     "cellMetadata": {
      "byteLimit": 2048000,
      "rowLimit": 10000
     },
     "inputWidgets": {},
     "nuid": "f4c2b45c-1c8f-4c15-ae38-f734ecaf8390",
     "showTitle": false,
     "tableResultSettingsMap": {},
     "title": ""
    },
    "id": "yOXV1NP0dwAB"
   },
   "source": [
    "**Interpretation:** There is no discernable differenece for those who exited or did not with respect to Estimated Salary."
   ]
  },
  {
   "cell_type": "markdown",
   "metadata": {
    "application/vnd.databricks.v1+cell": {
     "cellMetadata": {
      "byteLimit": 2048000,
      "rowLimit": 10000
     },
     "inputWidgets": {},
     "nuid": "f8fb430a-ca74-475c-81de-d6cf4800c3ef",
     "showTitle": false,
     "tableResultSettingsMap": {},
     "title": ""
    }
   },
   "source": [
    "### Summary of Continuous Features Analysis\n",
    "\n",
    "#### No Apparent Predictive Relevance\n",
    "- `Tenure`: tenure has a larger IQR, but otherwise very similar distributions, means, and medians\n",
    "- `EstimatedSalary`: averages and distributions are nearly identical\n",
    "\n",
    "#### Perhaps Small Predictive Relevance\n",
    "- `CreditScore`: **small if any predictive relevance**: there are small distribution differences\n",
    "\n",
    "#### Likely of Some Relevance\n",
    "- `Age`: churners average 9 years older than non-churners\n",
    "- `Balance`: churners have an approximately 15% higher average balance\n"
   ]
  },
  {
   "cell_type": "markdown",
   "metadata": {
    "application/vnd.databricks.v1+cell": {
     "cellMetadata": {
      "byteLimit": 2048000,
      "rowLimit": 10000
     },
     "inputWidgets": {},
     "nuid": "ac40cbc8-5172-407f-a7cd-bbbbde9ab1a8",
     "showTitle": false,
     "tableResultSettingsMap": {},
     "title": ""
    },
    "id": "Cw57xYtFdwAC"
   },
   "source": [
    "# Explore Categorical and Ordinal Features\n",
    "- Geography\n",
    "- Gender\n",
    "- NumOfProducts\n",
    "- HasCrCard\n",
    "- IsActiveMember\n",
    "- and Target: Exited"
   ]
  },
  {
   "cell_type": "code",
   "execution_count": 0,
   "metadata": {
    "application/vnd.databricks.v1+cell": {
     "cellMetadata": {
      "byteLimit": 2048000,
      "rowLimit": 10000
     },
     "inputWidgets": {},
     "nuid": "8a18b5e3-836f-42a0-9364-0c5342169569",
     "showTitle": false,
     "tableResultSettingsMap": {},
     "title": ""
    },
    "id": "46OioW3DdwAC"
   },
   "outputs": [],
   "source": [
    "# Create a variable to filter for categorical and ordinal features\n",
    "cat = ['Geography','Gender', 'NumOfProducts','HasCrCard','IsActiveMember','Exited']\n",
    "# Preview these features\n",
    "df[cat].head()"
   ]
  },
  {
   "cell_type": "code",
   "execution_count": 0,
   "metadata": {
    "application/vnd.databricks.v1+cell": {
     "cellMetadata": {
      "byteLimit": 2048000,
      "rowLimit": 10000
     },
     "inputWidgets": {},
     "nuid": "307422b1-75dc-4fe7-ba99-bd6e7f9d1ebb",
     "showTitle": false,
     "tableResultSettingsMap": {},
     "title": ""
    }
   },
   "outputs": [],
   "source": [
    "# View number of unique categories for each cateogrical and ordinal feature\n",
    "df[cat].nunique()"
   ]
  },
  {
   "cell_type": "markdown",
   "metadata": {
    "application/vnd.databricks.v1+cell": {
     "cellMetadata": {
      "byteLimit": 2048000,
      "rowLimit": 10000
     },
     "inputWidgets": {},
     "nuid": "9e52dc50-10cf-40f5-bffd-489868803671",
     "showTitle": false,
     "tableResultSettingsMap": {},
     "title": ""
    },
    "id": "h_j5Tg6PdwAD"
   },
   "source": [
    "## Geography"
   ]
  },
  {
   "cell_type": "code",
   "execution_count": 0,
   "metadata": {
    "application/vnd.databricks.v1+cell": {
     "cellMetadata": {
      "byteLimit": 2048000,
      "rowLimit": 10000
     },
     "inputWidgets": {},
     "nuid": "52452e27-a3b6-4ea2-af03-415521ab7845",
     "showTitle": false,
     "tableResultSettingsMap": {},
     "title": ""
    }
   },
   "outputs": [],
   "source": [
    "# Number of customers per category\n",
    "df['Geography'].value_counts()"
   ]
  },
  {
   "cell_type": "code",
   "execution_count": 0,
   "metadata": {
    "application/vnd.databricks.v1+cell": {
     "cellMetadata": {
      "byteLimit": 2048000,
      "rowLimit": 10000
     },
     "inputWidgets": {},
     "nuid": "6847c9ec-6edd-412f-9e5f-ef60957603d4",
     "showTitle": false,
     "tableResultSettingsMap": {},
     "title": ""
    }
   },
   "outputs": [],
   "source": [
    "# Countplot for all customers\n",
    "plt.title(\"Geography Distribution for All Customers\", fontsize=14, fontweight='bold')\n",
    "ax = sns.countplot(data=df, x='Geography', color=blue);\n",
    "ax.set(xlabel = '');"
   ]
  },
  {
   "cell_type": "code",
   "execution_count": 0,
   "metadata": {
    "application/vnd.databricks.v1+cell": {
     "cellMetadata": {
      "byteLimit": 2048000,
      "rowLimit": 10000
     },
     "inputWidgets": {},
     "nuid": "a6cd0cbb-491e-4f55-a5bb-7a89a88cc72b",
     "showTitle": false,
     "tableResultSettingsMap": {},
     "title": ""
    }
   },
   "outputs": [],
   "source": [
    "# Countplot of churners and non-churners for this category\n",
    "plt.title(\"Geographical Churn Count Comparisons\", fontsize=14, fontweight='bold')\n",
    "ax = sns.countplot(data=df, x='Geography', hue='Exited');\n",
    "# ax.set(xlabel = 'Custom x axis label', ylabel='Custom y axis label');"
   ]
  },
  {
   "cell_type": "code",
   "execution_count": 0,
   "metadata": {
    "application/vnd.databricks.v1+cell": {
     "cellMetadata": {
      "byteLimit": 2048000,
      "rowLimit": 10000
     },
     "inputWidgets": {},
     "nuid": "19e189e5-25a1-4f9c-a8cf-05b7d297a0be",
     "showTitle": false,
     "tableResultSettingsMap": {},
     "title": ""
    }
   },
   "outputs": [],
   "source": [
    "# Barplot of churn rates for this category\n",
    "plt.title(\"Geographical Churn Rates\", fontsize=14, fontweight='bold')\n",
    "ax = sns.barplot(data=df, x='Geography', y='Exited', ci=None, color=blue);\n",
    "# ax.set(xlabel = 'Custom x axis label', ylabel='Custom y axis label');"
   ]
  },
  {
   "cell_type": "code",
   "execution_count": 0,
   "metadata": {
    "application/vnd.databricks.v1+cell": {
     "cellMetadata": {
      "byteLimit": 2048000,
      "rowLimit": 10000
     },
     "inputWidgets": {},
     "nuid": "d0c53b22-e2bf-43ce-b259-d1abc04e00a1",
     "showTitle": false,
     "tableResultSettingsMap": {},
     "title": ""
    }
   },
   "outputs": [],
   "source": [
    "# Calculate Churn Rate for this category\n",
    "df[['Geography','Exited']].groupby('Geography').mean()"
   ]
  },
  {
   "cell_type": "markdown",
   "metadata": {
    "application/vnd.databricks.v1+cell": {
     "cellMetadata": {
      "byteLimit": 2048000,
      "rowLimit": 10000
     },
     "inputWidgets": {},
     "nuid": "3333cd15-035d-496c-bb31-03f32f430b7b",
     "showTitle": false,
     "tableResultSettingsMap": {},
     "title": ""
    }
   },
   "source": [
    "**Interpretation**: German customers are churning at nearly twice the rate of those from France and Spain!"
   ]
  },
  {
   "cell_type": "markdown",
   "metadata": {
    "application/vnd.databricks.v1+cell": {
     "cellMetadata": {
      "byteLimit": 2048000,
      "rowLimit": 10000
     },
     "inputWidgets": {},
     "nuid": "52b8a41a-f8ef-44e8-b303-31286354ab01",
     "showTitle": false,
     "tableResultSettingsMap": {},
     "title": ""
    },
    "id": "h_j5Tg6PdwAD"
   },
   "source": [
    "## Gender"
   ]
  },
  {
   "cell_type": "code",
   "execution_count": 0,
   "metadata": {
    "application/vnd.databricks.v1+cell": {
     "cellMetadata": {
      "byteLimit": 2048000,
      "rowLimit": 10000
     },
     "inputWidgets": {},
     "nuid": "f8428214-0169-4d5a-bd1e-f114bbe95aef",
     "showTitle": false,
     "tableResultSettingsMap": {},
     "title": ""
    }
   },
   "outputs": [],
   "source": [
    "# Count of Customers per Category\n",
    "df['Gender'].value_counts()"
   ]
  },
  {
   "cell_type": "code",
   "execution_count": 0,
   "metadata": {
    "application/vnd.databricks.v1+cell": {
     "cellMetadata": {
      "byteLimit": 2048000,
      "rowLimit": 10000
     },
     "inputWidgets": {},
     "nuid": "2596b1fc-0ad3-4425-9fdd-e98ade49d2bd",
     "showTitle": false,
     "tableResultSettingsMap": {},
     "title": ""
    }
   },
   "outputs": [],
   "source": [
    "# Count of Customers per Category\n",
    "# Countplot for all customers\n",
    "plt.title(\"Gender Distribution for All Customers\", fontsize=14, fontweight='bold')\n",
    "ax = sns.countplot(data=df, x='Gender', color=blue);\n",
    "ax.set(xlabel = '');"
   ]
  },
  {
   "cell_type": "code",
   "execution_count": 0,
   "metadata": {
    "application/vnd.databricks.v1+cell": {
     "cellMetadata": {
      "byteLimit": 2048000,
      "rowLimit": 10000
     },
     "inputWidgets": {},
     "nuid": "a115cc8d-1ab1-4739-ba85-1f09ea9c4467",
     "showTitle": false,
     "tableResultSettingsMap": {},
     "title": ""
    }
   },
   "outputs": [],
   "source": [
    "# Countplot of churners and non-churners for this category\n",
    "plt.title(\"Gender Churn Count Comparisons\", fontsize=14, fontweight='bold')\n",
    "ax = sns.countplot(data=df, x='Gender', hue='Exited');\n",
    "# ax.set(xlabel = 'Custom x axis label', ylabel='Custom y axis label');"
   ]
  },
  {
   "cell_type": "code",
   "execution_count": 0,
   "metadata": {
    "application/vnd.databricks.v1+cell": {
     "cellMetadata": {
      "byteLimit": 2048000,
      "rowLimit": 10000
     },
     "inputWidgets": {},
     "nuid": "292cb71c-72ff-4802-9d08-988d3917b940",
     "showTitle": false,
     "tableResultSettingsMap": {},
     "title": ""
    }
   },
   "outputs": [],
   "source": [
    "# Barplot of churn rates for this category\n",
    "plt.title(\"Gender Churn Rates\", fontsize=14, fontweight='bold')\n",
    "ax = sns.barplot(data=df, x='Gender', y='Exited', ci=None, color=blue);\n",
    "# ax.set(xlabel = 'Custom x axis label', ylabel='Custom y axis label');\n"
   ]
  },
  {
   "cell_type": "code",
   "execution_count": 0,
   "metadata": {
    "application/vnd.databricks.v1+cell": {
     "cellMetadata": {
      "byteLimit": 2048000,
      "rowLimit": 10000
     },
     "inputWidgets": {},
     "nuid": "87885843-72e2-4287-9bbc-6698bb13ad0f",
     "showTitle": false,
     "tableResultSettingsMap": {},
     "title": ""
    }
   },
   "outputs": [],
   "source": [
    "# Calculate Churn Rate for this category\n",
    "df[['Gender','Exited']].groupby('Gender').mean()"
   ]
  },
  {
   "cell_type": "markdown",
   "metadata": {
    "application/vnd.databricks.v1+cell": {
     "cellMetadata": {
      "byteLimit": 2048000,
      "rowLimit": 10000
     },
     "inputWidgets": {},
     "nuid": "961a84d6-5c0b-4912-a12b-189540b94b54",
     "showTitle": false,
     "tableResultSettingsMap": {},
     "title": ""
    }
   },
   "source": [
    "**Interpretation**: Women churn at nearly a rate that is 10 percentage points higher than men: Women at 25%; Men at 16.45%."
   ]
  },
  {
   "cell_type": "markdown",
   "metadata": {
    "application/vnd.databricks.v1+cell": {
     "cellMetadata": {
      "byteLimit": 2048000,
      "rowLimit": 10000
     },
     "inputWidgets": {},
     "nuid": "e0144def-d602-4439-aafe-a0cc20667d7e",
     "showTitle": false,
     "tableResultSettingsMap": {},
     "title": ""
    },
    "id": "h_j5Tg6PdwAD"
   },
   "source": [
    "## NumOfProducts"
   ]
  },
  {
   "cell_type": "code",
   "execution_count": 0,
   "metadata": {
    "application/vnd.databricks.v1+cell": {
     "cellMetadata": {
      "byteLimit": 2048000,
      "rowLimit": 10000
     },
     "inputWidgets": {},
     "nuid": "7964871b-e8c9-4f4d-9a1b-af853fc4c3c7",
     "showTitle": false,
     "tableResultSettingsMap": {},
     "title": ""
    }
   },
   "outputs": [],
   "source": [
    "# Count of Customers per Category\n",
    "df['NumOfProducts'].value_counts()"
   ]
  },
  {
   "cell_type": "code",
   "execution_count": 0,
   "metadata": {
    "application/vnd.databricks.v1+cell": {
     "cellMetadata": {
      "byteLimit": 2048000,
      "rowLimit": 10000
     },
     "inputWidgets": {},
     "nuid": "8ee1935f-a783-46a2-b12a-12cf2190e997",
     "showTitle": false,
     "tableResultSettingsMap": {},
     "title": ""
    }
   },
   "outputs": [],
   "source": [
    "# Countplot for all customers\n",
    "plt.title(\"NumOfProducts Distribution for All Customers\", fontsize=14, fontweight='bold')\n",
    "ax = sns.countplot(data=df, x='NumOfProducts', color=blue);\n",
    "ax.set(xlabel = '');"
   ]
  },
  {
   "cell_type": "code",
   "execution_count": 0,
   "metadata": {
    "application/vnd.databricks.v1+cell": {
     "cellMetadata": {
      "byteLimit": 2048000,
      "rowLimit": 10000
     },
     "inputWidgets": {},
     "nuid": "88b9d97e-651b-4a73-a0a0-16a1cf7ca597",
     "showTitle": false,
     "tableResultSettingsMap": {},
     "title": ""
    }
   },
   "outputs": [],
   "source": [
    "# Countplot of churners and non-churners for this category\n",
    "plt.title(\"NumOfProducts Churn Count Comparisons\", fontsize=14, fontweight='bold')\n",
    "ax = sns.countplot(data=df, x='NumOfProducts', hue='Exited');\n",
    "# ax.set(xlabel = 'Custom x axis label', ylabel='Custom y axis label');"
   ]
  },
  {
   "cell_type": "code",
   "execution_count": 0,
   "metadata": {
    "application/vnd.databricks.v1+cell": {
     "cellMetadata": {
      "byteLimit": 2048000,
      "rowLimit": 10000
     },
     "inputWidgets": {},
     "nuid": "f2b8b6e0-0a1a-440f-af5d-8f6c48f2458f",
     "showTitle": false,
     "tableResultSettingsMap": {},
     "title": ""
    }
   },
   "outputs": [],
   "source": [
    "# Barplot of churn rates for this category\n",
    "plt.title(\"NumOfProducts Churn Rates\", fontsize=14, fontweight='bold')\n",
    "ax = sns.barplot(data=df, x='NumOfProducts', y='Exited', ci=None, color=blue);\n",
    "# ax.set(xlabel = 'Custom x axis label', ylabel='Custom y axis label');"
   ]
  },
  {
   "cell_type": "code",
   "execution_count": 0,
   "metadata": {
    "application/vnd.databricks.v1+cell": {
     "cellMetadata": {
      "byteLimit": 2048000,
      "rowLimit": 10000
     },
     "inputWidgets": {},
     "nuid": "c4c261d7-4c68-429b-8bd5-b997d7e854bd",
     "showTitle": false,
     "tableResultSettingsMap": {},
     "title": ""
    }
   },
   "outputs": [],
   "source": [
    "# Calculate Churn Rate for this category\n",
    "df[['NumOfProducts','Exited']].groupby('NumOfProducts').mean()"
   ]
  },
  {
   "cell_type": "markdown",
   "metadata": {
    "application/vnd.databricks.v1+cell": {
     "cellMetadata": {
      "byteLimit": 2048000,
      "rowLimit": 10000
     },
     "inputWidgets": {},
     "nuid": "c4faa9bf-6fdd-4f04-b7a3-2f0093af0dce",
     "showTitle": false,
     "tableResultSettingsMap": {},
     "title": ""
    }
   },
   "source": [
    "**Interpretation**: We should look at NumOfProducts closely and definitely use it in our model. Customers with 3 or 4 products leave. This is over a small percentage of customers though."
   ]
  },
  {
   "cell_type": "markdown",
   "metadata": {
    "application/vnd.databricks.v1+cell": {
     "cellMetadata": {
      "byteLimit": 2048000,
      "rowLimit": 10000
     },
     "inputWidgets": {},
     "nuid": "ff1464de-e972-4720-802b-cc02cde17db1",
     "showTitle": false,
     "tableResultSettingsMap": {},
     "title": ""
    },
    "id": "h_j5Tg6PdwAD"
   },
   "source": [
    "## HasCrCard"
   ]
  },
  {
   "cell_type": "code",
   "execution_count": 0,
   "metadata": {
    "application/vnd.databricks.v1+cell": {
     "cellMetadata": {
      "byteLimit": 2048000,
      "rowLimit": 10000
     },
     "inputWidgets": {},
     "nuid": "965d5c6b-1707-45a9-bd61-df6261570095",
     "showTitle": false,
     "tableResultSettingsMap": {},
     "title": ""
    }
   },
   "outputs": [],
   "source": [
    "# Count of Customers per Category\n",
    "df['HasCrCard'].value_counts()"
   ]
  },
  {
   "cell_type": "code",
   "execution_count": 0,
   "metadata": {
    "application/vnd.databricks.v1+cell": {
     "cellMetadata": {
      "byteLimit": 2048000,
      "rowLimit": 10000
     },
     "inputWidgets": {},
     "nuid": "808642c1-b1f8-465d-8a88-8439bc3ed3a7",
     "showTitle": false,
     "tableResultSettingsMap": {},
     "title": ""
    }
   },
   "outputs": [],
   "source": [
    "# Countplot for all customers\n",
    "plt.title(\"HasCrCard Distribution for All Customers\", fontsize=14, fontweight='bold')\n",
    "ax = sns.countplot(data=df, x='HasCrCard', color=blue);\n",
    "ax.set(xlabel = '');"
   ]
  },
  {
   "cell_type": "code",
   "execution_count": 0,
   "metadata": {
    "application/vnd.databricks.v1+cell": {
     "cellMetadata": {
      "byteLimit": 2048000,
      "rowLimit": 10000
     },
     "inputWidgets": {},
     "nuid": "5afe94e6-64cf-4583-8741-f1765d572062",
     "showTitle": false,
     "tableResultSettingsMap": {},
     "title": ""
    }
   },
   "outputs": [],
   "source": [
    "# Countplot of churners and non-churners for this category\n",
    "plt.title(\"HasCrCard Churn Count Comparisons\", fontsize=14, fontweight='bold')\n",
    "ax = sns.countplot(data=df, x='HasCrCard', hue='Exited');\n",
    "# ax.set(xlabel = 'Custom x axis label', ylabel='Custom y axis label');"
   ]
  },
  {
   "cell_type": "code",
   "execution_count": 0,
   "metadata": {
    "application/vnd.databricks.v1+cell": {
     "cellMetadata": {
      "byteLimit": 2048000,
      "rowLimit": 10000
     },
     "inputWidgets": {},
     "nuid": "ada0a7d4-110c-45d9-94b8-c229f3139270",
     "showTitle": false,
     "tableResultSettingsMap": {},
     "title": ""
    }
   },
   "outputs": [],
   "source": [
    "# Barplot of churn rates for this category\n",
    "plt.title(\"HasCrCard Churn Rates\", fontsize=14, fontweight='bold')\n",
    "ax = sns.barplot(data=df, x='HasCrCard', y='Exited', ci=None, color=blue);\n",
    "# ax.set(xlabel = 'Custom x axis label', ylabel='Custom y axis label');"
   ]
  },
  {
   "cell_type": "code",
   "execution_count": 0,
   "metadata": {
    "application/vnd.databricks.v1+cell": {
     "cellMetadata": {
      "byteLimit": 2048000,
      "rowLimit": 10000
     },
     "inputWidgets": {},
     "nuid": "6cc5d34f-072b-4301-a96c-ee046540e3bb",
     "showTitle": false,
     "tableResultSettingsMap": {},
     "title": ""
    }
   },
   "outputs": [],
   "source": [
    "# Calculate Churn Rate for this category\n",
    "df[['HasCrCard','Exited']].groupby('HasCrCard').mean()"
   ]
  },
  {
   "cell_type": "markdown",
   "metadata": {
    "application/vnd.databricks.v1+cell": {
     "cellMetadata": {
      "byteLimit": 2048000,
      "rowLimit": 10000
     },
     "inputWidgets": {},
     "nuid": "f0f54ce6-360d-4d61-882d-f6c5c0da6944",
     "showTitle": false,
     "tableResultSettingsMap": {},
     "title": ""
    }
   },
   "source": [
    "**Interpretation**: those who have credit cards exited at the same rate as those who did not. There's no value in using this for predictions."
   ]
  },
  {
   "cell_type": "markdown",
   "metadata": {
    "application/vnd.databricks.v1+cell": {
     "cellMetadata": {
      "byteLimit": 2048000,
      "rowLimit": 10000
     },
     "inputWidgets": {},
     "nuid": "b7860d83-6025-47cf-94aa-b51121dd0289",
     "showTitle": false,
     "tableResultSettingsMap": {},
     "title": ""
    },
    "id": "h_j5Tg6PdwAD"
   },
   "source": [
    "## IsActiveMember"
   ]
  },
  {
   "cell_type": "code",
   "execution_count": 0,
   "metadata": {
    "application/vnd.databricks.v1+cell": {
     "cellMetadata": {
      "byteLimit": 2048000,
      "rowLimit": 10000
     },
     "inputWidgets": {},
     "nuid": "52972de8-956a-40f6-8b91-2c7a0c08b12c",
     "showTitle": false,
     "tableResultSettingsMap": {},
     "title": ""
    }
   },
   "outputs": [],
   "source": [
    "# Count of Customers per Category\n",
    "df['IsActiveMember'].value_counts()"
   ]
  },
  {
   "cell_type": "code",
   "execution_count": 0,
   "metadata": {
    "application/vnd.databricks.v1+cell": {
     "cellMetadata": {
      "byteLimit": 2048000,
      "rowLimit": 10000
     },
     "inputWidgets": {},
     "nuid": "86e186d7-f75d-4c49-bc57-8c1cc3421281",
     "showTitle": false,
     "tableResultSettingsMap": {},
     "title": ""
    }
   },
   "outputs": [],
   "source": [
    "# Countplot for all customers\n",
    "plt.title(\"IsActiveMember Distribution for All Customers\", fontsize=14, fontweight='bold')\n",
    "ax = sns.countplot(data=df, x='IsActiveMember', color=blue);\n",
    "ax.set(xlabel = '');"
   ]
  },
  {
   "cell_type": "code",
   "execution_count": 0,
   "metadata": {
    "application/vnd.databricks.v1+cell": {
     "cellMetadata": {
      "byteLimit": 2048000,
      "rowLimit": 10000
     },
     "inputWidgets": {},
     "nuid": "7be353e6-c9b6-4f2a-a438-aa2cbd42f4b0",
     "showTitle": false,
     "tableResultSettingsMap": {},
     "title": ""
    }
   },
   "outputs": [],
   "source": [
    "# Countplot of churners and non-churners for this category\n",
    "plt.title(\"IsActiveMember Churn Count Comparisons\", fontsize=14, fontweight='bold')\n",
    "ax = sns.countplot(data=df, x='IsActiveMember', hue='Exited');\n",
    "# ax.set(xlabel = 'Custom x axis label', ylabel='Custom y axis label');"
   ]
  },
  {
   "cell_type": "code",
   "execution_count": 0,
   "metadata": {
    "application/vnd.databricks.v1+cell": {
     "cellMetadata": {
      "byteLimit": 2048000,
      "rowLimit": 10000
     },
     "inputWidgets": {},
     "nuid": "0b368c45-ea97-45b8-918e-1cd8ce97111f",
     "showTitle": false,
     "tableResultSettingsMap": {},
     "title": ""
    }
   },
   "outputs": [],
   "source": [
    "# Barplot of churn rates for this category\n",
    "plt.title(\"IsActiveMember Churn Rates\", fontsize=14, fontweight='bold')\n",
    "ax = sns.barplot(data=df, x='IsActiveMember', y='Exited', ci=None, color=blue);\n",
    "# ax.set(xlabel = 'Custom x axis label', ylabel='Custom y axis label');"
   ]
  },
  {
   "cell_type": "code",
   "execution_count": 0,
   "metadata": {
    "application/vnd.databricks.v1+cell": {
     "cellMetadata": {
      "byteLimit": 2048000,
      "rowLimit": 10000
     },
     "inputWidgets": {},
     "nuid": "05773486-c75b-44f6-bac2-7821f9efb4c4",
     "showTitle": false,
     "tableResultSettingsMap": {},
     "title": ""
    }
   },
   "outputs": [],
   "source": [
    "# Calculate Churn Rate for this category\n",
    "df[['IsActiveMember','Exited']].groupby('IsActiveMember').mean()"
   ]
  },
  {
   "cell_type": "markdown",
   "metadata": {
    "application/vnd.databricks.v1+cell": {
     "cellMetadata": {
      "byteLimit": 2048000,
      "rowLimit": 10000
     },
     "inputWidgets": {},
     "nuid": "8d24428c-7c28-4a27-813d-4586604eca72",
     "showTitle": false,
     "tableResultSettingsMap": {},
     "title": ""
    }
   },
   "source": [
    "**Interpretation**: Active members have a much lower churn rate than those who are not active. This appears to be a good candidate for predictive modeling."
   ]
  },
  {
   "cell_type": "markdown",
   "metadata": {
    "application/vnd.databricks.v1+cell": {
     "cellMetadata": {
      "byteLimit": 2048000,
      "rowLimit": 10000
     },
     "inputWidgets": {},
     "nuid": "5af9505e-9052-45f0-b789-39889586e75c",
     "showTitle": false,
     "tableResultSettingsMap": {},
     "title": ""
    }
   },
   "source": [
    "### Summary of Categorical and Ordinal Feature Analysis\n",
    "\n",
    "#### No Apparent Predictive Relevance\n",
    "- `HasCrCard`: there is almost no difference in exit rates for those who have a credit card and those who do not.\n",
    "\n",
    "#### Perhaps Small Predictive Relevance\n",
    "- `NumOfProducts`: while they are a small percentage of our customers, those with more than two products leave at a very high rate.\n",
    "\n",
    "#### Likely of Some Relevance\n",
    "- `Geography`: in particular Germany has a churn rate almost twice that of France and Spain.\n",
    "- `Gender`: women exit at a 65% higher rate than men: 25% for women vs. 16.4% for men.\n",
    "- `IsActiveMember`: members who are not active leave at almost twice the rate as active members."
   ]
  },
  {
   "cell_type": "markdown",
   "metadata": {
    "application/vnd.databricks.v1+cell": {
     "cellMetadata": {
      "byteLimit": 2048000,
      "rowLimit": 10000
     },
     "inputWidgets": {},
     "nuid": "4b4f89a1-4312-4f81-9e0b-a3b68d14d95d",
     "showTitle": false,
     "tableResultSettingsMap": {},
     "title": ""
    }
   },
   "source": [
    "# Explore Relationships between Numeric Variables"
   ]
  },
  {
   "cell_type": "code",
   "execution_count": 0,
   "metadata": {
    "application/vnd.databricks.v1+cell": {
     "cellMetadata": {
      "byteLimit": 2048000,
      "rowLimit": 10000
     },
     "inputWidgets": {},
     "nuid": "8f885e86-badd-4e55-9390-87f607dfbf15",
     "showTitle": false,
     "tableResultSettingsMap": {},
     "title": ""
    }
   },
   "outputs": [],
   "source": [
    "df.info()"
   ]
  },
  {
   "cell_type": "code",
   "execution_count": 0,
   "metadata": {
    "application/vnd.databricks.v1+cell": {
     "cellMetadata": {
      "byteLimit": 2048000,
      "rowLimit": 10000
     },
     "inputWidgets": {},
     "nuid": "4378faff-7eaf-4a2d-a1e6-a13ed1a9929c",
     "showTitle": false,
     "tableResultSettingsMap": {},
     "title": ""
    }
   },
   "outputs": [],
   "source": [
    "# Create variable to hold all features with numeric data types\n",
    "# https://pandas.pydata.org/docs/reference/api/pandas.DataFrame.select_dtypes.html\n",
    "num = list(df.select_dtypes(include=['number']).columns)\n",
    "df[num].info()"
   ]
  },
  {
   "cell_type": "code",
   "execution_count": 0,
   "metadata": {
    "application/vnd.databricks.v1+cell": {
     "cellMetadata": {
      "byteLimit": 2048000,
      "rowLimit": 10000
     },
     "inputWidgets": {},
     "nuid": "a0f73c9a-99b5-4837-86ed-0c23379d4e11",
     "showTitle": false,
     "tableResultSettingsMap": {},
     "title": ""
    }
   },
   "outputs": [],
   "source": [
    "# Calculate Pearson Correlations for Numeric Features\n",
    "# https://pandas.pydata.org/docs/reference/api/pandas.DataFrame.corr.html \n",
    "df[num].corr()"
   ]
  },
  {
   "cell_type": "code",
   "execution_count": 0,
   "metadata": {
    "application/vnd.databricks.v1+cell": {
     "cellMetadata": {
      "byteLimit": 2048000,
      "rowLimit": 10000
     },
     "inputWidgets": {},
     "nuid": "8d9d987d-81e4-48ed-b450-da9e9859c1a3",
     "showTitle": false,
     "tableResultSettingsMap": {},
     "title": ""
    }
   },
   "outputs": [],
   "source": [
    "# Heatmap Pearson Correlations for Numeric Features\n",
    "# https://seaborn.pydata.org/generated/seaborn.heatmap.html\n",
    "mask = np.triu(np.ones_like(df[num].corr()))\n",
    "plt.figure(figsize=(7,4))\n",
    "plt.title(\"Correlation Heatmap\", fontsize=14, fontweight='bold')\n",
    "ax = sns.heatmap(df[num].corr(), cmap=cpd, vmin=-1, vmax=1, mask=mask, annot=True);"
   ]
  },
  {
   "cell_type": "markdown",
   "metadata": {
    "application/vnd.databricks.v1+cell": {
     "cellMetadata": {
      "byteLimit": 2048000,
      "rowLimit": 10000
     },
     "inputWidgets": {},
     "nuid": "d67505c5-058d-442a-9894-712473b71eb7",
     "showTitle": false,
     "tableResultSettingsMap": {},
     "title": ""
    }
   },
   "source": [
    "**Interpretation**:\n",
    "- There are no glaring multicollinearity problems with this data set."
   ]
  },
  {
   "cell_type": "markdown",
   "metadata": {
    "application/vnd.databricks.v1+cell": {
     "cellMetadata": {
      "byteLimit": 2048000,
      "rowLimit": 10000
     },
     "inputWidgets": {},
     "nuid": "e8488296-db75-4c18-93ad-5cf9b56b7e2e",
     "showTitle": false,
     "tableResultSettingsMap": {},
     "title": ""
    },
    "id": "1m4SYnrAdwAF"
   },
   "source": [
    "# Data Prep\n",
    "Prepare all fields for machine learning."
   ]
  },
  {
   "cell_type": "code",
   "execution_count": 0,
   "metadata": {
    "application/vnd.databricks.v1+cell": {
     "cellMetadata": {
      "byteLimit": 2048000,
      "rowLimit": 10000
     },
     "inputWidgets": {},
     "nuid": "3d419880-6be6-4b94-913b-fdabb6fc0792",
     "showTitle": false,
     "tableResultSettingsMap": {},
     "title": ""
    },
    "id": "-a5qgHUgdwAF"
   },
   "outputs": [],
   "source": [
    "# Preview current dataframe\n",
    "df.head()"
   ]
  },
  {
   "cell_type": "code",
   "execution_count": 0,
   "metadata": {
    "application/vnd.databricks.v1+cell": {
     "cellMetadata": {
      "byteLimit": 2048000,
      "rowLimit": 10000
     },
     "inputWidgets": {},
     "nuid": "db3039c4-b33a-4891-9d1b-7a9ab6fc6bb6",
     "showTitle": false,
     "tableResultSettingsMap": {},
     "title": ""
    }
   },
   "outputs": [],
   "source": [
    "# Overview current dataframe fundamentals\n",
    "df.info()"
   ]
  },
  {
   "cell_type": "markdown",
   "metadata": {
    "application/vnd.databricks.v1+cell": {
     "cellMetadata": {
      "byteLimit": 2048000,
      "rowLimit": 10000
     },
     "inputWidgets": {},
     "nuid": "c15dad29-cc8c-45ac-9413-7f80c20ffb4b",
     "showTitle": false,
     "tableResultSettingsMap": {},
     "title": ""
    },
    "id": "CKdb0vBhdwAG"
   },
   "source": [
    "## Convert Gender to 0 or 1"
   ]
  },
  {
   "cell_type": "code",
   "execution_count": 0,
   "metadata": {
    "application/vnd.databricks.v1+cell": {
     "cellMetadata": {
      "byteLimit": 2048000,
      "rowLimit": 10000
     },
     "inputWidgets": {},
     "nuid": "555477bb-7d87-43de-a983-60b3730f9314",
     "showTitle": false,
     "tableResultSettingsMap": {},
     "title": ""
    },
    "id": "fkyX0FiidwAG"
   },
   "outputs": [],
   "source": [
    "# Convert gender to binary integer: Male = 0, Female = 1\n",
    "gender_num = {'Male': 0, 'Female': 1}\n",
    "df['Gender'] = df['Gender'].map(gender_num)"
   ]
  },
  {
   "cell_type": "markdown",
   "metadata": {
    "application/vnd.databricks.v1+cell": {
     "cellMetadata": {
      "byteLimit": 2048000,
      "rowLimit": 10000
     },
     "inputWidgets": {},
     "nuid": "7e914bbc-d8e5-4c1a-9963-625bd18b996d",
     "showTitle": false,
     "tableResultSettingsMap": {},
     "title": ""
    },
    "id": "LDqtRl14dwAG"
   },
   "source": [
    "## Convert Geography to numeric"
   ]
  },
  {
   "cell_type": "code",
   "execution_count": 0,
   "metadata": {
    "application/vnd.databricks.v1+cell": {
     "cellMetadata": {
      "byteLimit": 2048000,
      "rowLimit": 10000
     },
     "inputWidgets": {},
     "nuid": "cdb6ae27-2776-4777-a24a-6cd3baca30f4",
     "showTitle": false,
     "tableResultSettingsMap": {},
     "title": ""
    },
    "id": "Shle7L5FdwAG"
   },
   "outputs": [],
   "source": [
    "# Convert Geography to integer: France = 0, Spain = 1, Germany = 2\n",
    "geo_num = {'France': 0, 'Spain': 1, 'Germany': 2}\n",
    "df['Geography'] = df['Geography'].map(geo_num)"
   ]
  },
  {
   "cell_type": "markdown",
   "metadata": {
    "application/vnd.databricks.v1+cell": {
     "cellMetadata": {
      "byteLimit": 2048000,
      "rowLimit": 10000
     },
     "inputWidgets": {},
     "nuid": "6fc3e6dc-e17f-4ab4-9b1f-e4aa373eb887",
     "showTitle": false,
     "tableResultSettingsMap": {},
     "title": ""
    },
    "id": "WxCCCbO5dwAH"
   },
   "source": [
    "## Write to CSV\n",
    "\n",
    "Write to CSV file, named `churn_cleaned.csv`"
   ]
  },
  {
   "cell_type": "code",
   "execution_count": 0,
   "metadata": {
    "application/vnd.databricks.v1+cell": {
     "cellMetadata": {
      "byteLimit": 2048000,
      "rowLimit": 10000
     },
     "inputWidgets": {},
     "nuid": "ac1e37b4-b39c-4d7d-bbaf-876f042923bb",
     "showTitle": false,
     "tableResultSettingsMap": {},
     "title": ""
    },
    "id": "vGy7DPiedwAH"
   },
   "outputs": [],
   "source": [
    "# Write to CSV\n",
    "df.to_csv(\"churn_cleaned.csv\", header=True, index=False)"
   ]
  }
 ],
 "metadata": {
  "application/vnd.databricks.v1+notebook": {
   "computePreferences": null,
   "dashboards": [],
   "environmentMetadata": null,
   "inputWidgetPreferences": null,
   "language": "python",
   "notebookMetadata": {
    "pythonIndentUnit": 4
   },
   "notebookName": "Churn_Modelling_EDA_and_Prep_Person",
   "widgets": {}
  },
  "colab": {
   "collapsed_sections": [],
   "name": "Churn_EDA_and_Prep_2022_DC.ipynb",
   "provenance": []
  },
  "kernelspec": {
   "display_name": "Python 3 (ipykernel)",
   "language": "python",
   "name": "python3"
  },
  "language_info": {
   "name": "python"
  }
 },
 "nbformat": 4,
 "nbformat_minor": 0
}
