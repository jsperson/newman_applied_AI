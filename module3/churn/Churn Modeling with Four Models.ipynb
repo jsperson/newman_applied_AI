{
 "cells": [
  {
   "cell_type": "markdown",
   "metadata": {
    "application/vnd.databricks.v1+cell": {
     "cellMetadata": {
      "byteLimit": 2048000,
      "rowLimit": 10000
     },
     "inputWidgets": {},
     "nuid": "fd0b5bc1-bb5e-4801-8eb9-2f1ca38b0e58",
     "showTitle": false,
     "tableResultSettingsMap": {},
     "title": ""
    }
   },
   "source": [
    "# Churn Modeling with Four Models\n",
    "**By Jason \"Scott\" Person\n",
    "**Applied Machine Learning 1 @ Newman University**\n",
    "\n",
    "## About this Data Set\n",
    "**This data is from [the Churn-Modelling data set from Kaggle](https://www.kaggle.com/shubh0799/churn-modelling).**<br/>\n",
    "**Number of Records:** 10,000<br/>\n",
    "**Number of original fields:** 14 (including a supplied index)<br/>\n",
    "**Fields include:**\n",
    "- `RowNumber` - a supplied index\n",
    "- `CustomerId` - unique ID number for each customer\n",
    "- `Surname` - customer last name\n",
    "- `CreditScore` - customer credit score\n",
    "- `Geography` - the country in which the customer resides\n",
    "- `Gender` - Male or Female\n",
    "- `Age` - customer's age as integer\n",
    "- `Tenure` - number of years as a customer, in integers\n",
    "- `Balance` - customer's total bank balance\n",
    "- `NumOfProducts` - the number of banking products a custom participates in\n",
    "- `HasCrCard` - binary 0 or 1 indicating whether the customer has a bank credit card\n",
    "- `IsActiveMember` - binary 0 or 1 indicating whether the customer has been active within past ?? time period\n",
    "- `EstimatedSalary` - the customer's estimated salary\n",
    "- `Exited` - binary 0 or 1 indicating whether the customer has left the bank and closed all accounts"
   ]
  },
  {
   "cell_type": "code",
   "execution_count": 0,
   "metadata": {
    "application/vnd.databricks.v1+cell": {
     "cellMetadata": {
      "byteLimit": 2048000,
      "rowLimit": 10000
     },
     "inputWidgets": {},
     "nuid": "e8bb48e0-6e23-40ea-bfd7-17436ad1555d",
     "showTitle": false,
     "tableResultSettingsMap": {},
     "title": ""
    }
   },
   "outputs": [],
   "source": [
    "# Basic Imports for Data Science\n",
    "import numpy as np\n",
    "import pandas as pd\n",
    "\n",
    "# Machine Learning Prerequisites\n",
    "from sklearn.model_selection import train_test_split\n",
    "from sklearn.metrics import accuracy_score\n",
    "\n",
    "# Five Model Algorithms\n",
    "from sklearn.linear_model import LogisticRegression\n",
    "from sklearn.tree import DecisionTreeClassifier\n",
    "from sklearn.ensemble import RandomForestClassifier\n",
    "from sklearn.ensemble import GradientBoostingClassifier"
   ]
  },
  {
   "cell_type": "markdown",
   "metadata": {
    "application/vnd.databricks.v1+cell": {
     "cellMetadata": {
      "byteLimit": 2048000,
      "rowLimit": 10000
     },
     "inputWidgets": {},
     "nuid": "cb78b4ae-8524-40c4-9563-c9f79b952ebf",
     "showTitle": false,
     "tableResultSettingsMap": {},
     "title": ""
    }
   },
   "source": [
    "# 1. Read and Review Data\n",
    "\n",
    "This is previously cleaned churn data."
   ]
  },
  {
   "cell_type": "code",
   "execution_count": 0,
   "metadata": {
    "application/vnd.databricks.v1+cell": {
     "cellMetadata": {
      "byteLimit": 2048000,
      "rowLimit": 10000
     },
     "inputWidgets": {},
     "nuid": "00e215e7-c556-4e81-8158-59181c691fb1",
     "showTitle": false,
     "tableResultSettingsMap": {},
     "title": ""
    }
   },
   "outputs": [],
   "source": [
    "# Read data and show sample\n",
    "df = pd.read_csv('churn_cleaned.csv')\n",
    "df.head(10)"
   ]
  },
  {
   "cell_type": "code",
   "execution_count": 0,
   "metadata": {
    "application/vnd.databricks.v1+cell": {
     "cellMetadata": {
      "byteLimit": 2048000,
      "rowLimit": 10000
     },
     "inputWidgets": {},
     "nuid": "5b0106e5-6931-4bc3-b5d4-ce8418659468",
     "showTitle": false,
     "tableResultSettingsMap": {},
     "title": ""
    }
   },
   "outputs": [],
   "source": [
    "# Show basic data info\n",
    "df.info()"
   ]
  },
  {
   "cell_type": "markdown",
   "metadata": {
    "application/vnd.databricks.v1+cell": {
     "cellMetadata": {
      "byteLimit": 2048000,
      "rowLimit": 10000
     },
     "inputWidgets": {},
     "nuid": "92d518f9-fc1d-4772-a2de-0ef59a6e276c",
     "showTitle": false,
     "tableResultSettingsMap": {},
     "title": ""
    }
   },
   "source": [
    "# 2. Split Data into Training and Test Sets"
   ]
  },
  {
   "cell_type": "code",
   "execution_count": 0,
   "metadata": {
    "application/vnd.databricks.v1+cell": {
     "cellMetadata": {
      "byteLimit": 2048000,
      "rowLimit": 10000
     },
     "inputWidgets": {},
     "nuid": "b47a1be5-cccd-41c8-ad37-384fcf0066be",
     "showTitle": false,
     "tableResultSettingsMap": {},
     "title": ""
    }
   },
   "outputs": [],
   "source": [
    "# Create list of features by dropping the target column\n",
    "features = df.drop('Exited', axis=1)\n",
    "\n",
    "# Create list that contains just the target column\n",
    "labels = df['Exited']"
   ]
  },
  {
   "cell_type": "code",
   "execution_count": 0,
   "metadata": {
    "application/vnd.databricks.v1+cell": {
     "cellMetadata": {
      "byteLimit": 2048000,
      "rowLimit": 10000
     },
     "inputWidgets": {},
     "nuid": "171df416-e9ef-43e7-9bb1-45cd23e99cf3",
     "showTitle": false,
     "tableResultSettingsMap": {},
     "title": ""
    }
   },
   "outputs": [],
   "source": [
    "# Split the data into training and test sets\n",
    "X_train, X_test, y_train, y_test = train_test_split(features, labels, test_size=0.2, random_state=42)\n",
    "\n",
    "# Print the sizes of each set with percentages of total size\n",
    "total_size = features.shape[0]\n",
    "print(f\"Training set size: {X_train.shape[0]} ({(X_train.shape[0] / total_size) * 100:.2f}%)\")\n",
    "print(f\"Test set size: {X_test.shape[0]} ({(X_test.shape[0] / total_size) * 100:.2f}%)\")"
   ]
  },
  {
   "cell_type": "markdown",
   "metadata": {
    "application/vnd.databricks.v1+cell": {
     "cellMetadata": {
      "byteLimit": 2048000,
      "rowLimit": 10000
     },
     "inputWidgets": {},
     "nuid": "870ff1d0-da43-4582-8002-442036e52a3d",
     "showTitle": false,
     "tableResultSettingsMap": {},
     "title": ""
    }
   },
   "source": [
    "# 3. Train Models"
   ]
  },
  {
   "cell_type": "code",
   "execution_count": 0,
   "metadata": {
    "application/vnd.databricks.v1+cell": {
     "cellMetadata": {
      "byteLimit": 2048000,
      "rowLimit": 10000
     },
     "inputWidgets": {},
     "nuid": "b012cde7-ffb8-4554-aa56-024bb80799a2",
     "showTitle": false,
     "tableResultSettingsMap": {},
     "title": ""
    }
   },
   "outputs": [],
   "source": [
    "# Note, some content below won't render in VSCode and presumably other editors. It is just status data for the model training.\n",
    "\n",
    "# Define a models list\n",
    "models = [\n",
    "    LogisticRegression(max_iter=10000),\n",
    "    DecisionTreeClassifier(),\n",
    "    RandomForestClassifier(),\n",
    "    GradientBoostingClassifier()\n",
    "]\n",
    "\n",
    "# Train the models using the training features and labels\n",
    "for model in models:\n",
    "    model.fit(X_train, y_train)\n",
    "    # Report trained model\n",
    "    print(f\"Trained and ready: {model}\")"
   ]
  },
  {
   "cell_type": "markdown",
   "metadata": {
    "application/vnd.databricks.v1+cell": {
     "cellMetadata": {
      "byteLimit": 2048000,
      "rowLimit": 10000
     },
     "inputWidgets": {},
     "nuid": "dee419ab-dca5-4794-9ffd-9fcb401bf84a",
     "showTitle": false,
     "tableResultSettingsMap": {},
     "title": ""
    }
   },
   "source": [
    "# 4. Test Models"
   ]
  },
  {
   "cell_type": "code",
   "execution_count": 0,
   "metadata": {
    "application/vnd.databricks.v1+cell": {
     "cellMetadata": {
      "byteLimit": 2048000,
      "rowLimit": 10000
     },
     "inputWidgets": {},
     "nuid": "954be92a-33f3-463b-b6ff-1dbea4389b87",
     "showTitle": false,
     "tableResultSettingsMap": {},
     "title": ""
    }
   },
   "outputs": [],
   "source": [
    "# Test all models by running models list through a for loop\n",
    "\n",
    "for model in models:\n",
    "    # Use the model to generate predictions for the Test split, based on its features only\n",
    "    y_pred = model.predict(X_test)\n",
    "\n",
    "    # Compare model's predictive performance to the provided test labels\n",
    "    score = round(accuracy_score(y_test, y_pred) * 100, 4)\n",
    "\n",
    "    # Report the model and its score\n",
    "    print(model)\n",
    "    print(f'  {score}\\n')"
   ]
  },
  {
   "cell_type": "code",
   "execution_count": 0,
   "metadata": {
    "application/vnd.databricks.v1+cell": {
     "cellMetadata": {},
     "inputWidgets": {},
     "nuid": "0e487ce0-2a2a-43b0-9dd7-6f1db4b7854e",
     "showTitle": false,
     "tableResultSettingsMap": {},
     "title": ""
    }
   },
   "outputs": [],
   "source": []
  }
 ],
 "metadata": {
  "application/vnd.databricks.v1+notebook": {
   "computePreferences": null,
   "dashboards": [],
   "environmentMetadata": {
    "base_environment": "",
    "environment_version": "2"
   },
   "inputWidgetPreferences": null,
   "language": "python",
   "notebookMetadata": {
    "pythonIndentUnit": 4
   },
   "notebookName": "Churn Modeling with Four Models",
   "widgets": {}
  },
  "language_info": {
   "name": "python"
  }
 },
 "nbformat": 4,
 "nbformat_minor": 0
}
