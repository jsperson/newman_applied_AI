{
 "cells": [
  {
   "cell_type": "markdown",
   "metadata": {
    "application/vnd.databricks.v1+cell": {
     "cellMetadata": {
      "byteLimit": 2048000,
      "rowLimit": 10000
     },
     "inputWidgets": {},
     "nuid": "b9c5131e-8445-4cc6-821b-a948b3e6e80b",
     "showTitle": false,
     "tableResultSettingsMap": {},
     "title": ""
    },
    "id": "WIIjcoy499Ar"
   },
   "source": [
    "# Titanic Modeling: Basic Version - EXPLORATION\n",
    "**By Jason \"Scott\" Person**<br/>\n",
    "**Data Analytics @ Newman University**\n",
    "\n",
    "**Data:** A previously cleaned version of [the Titanic data set from Kaggle](https://www.kaggle.com/c/titanic/overview).\n",
    "\n",
    "**This Notebook:** This is crafted as a demonstration of a standard machine learning training and testing process.\n",
    "\n",
    "**Contents:**\n",
    "1. Read and Review Data\n",
    "2. Prepare Data Splits\n",
    "3. Train Models\n",
    "4. Test Models"
   ]
  },
  {
   "cell_type": "code",
   "execution_count": 0,
   "metadata": {
    "application/vnd.databricks.v1+cell": {
     "cellMetadata": {
      "byteLimit": 2048000,
      "rowLimit": 10000
     },
     "inputWidgets": {},
     "nuid": "e4cd308a-f49d-43c7-a4c5-20294ef5e1c0",
     "showTitle": false,
     "tableResultSettingsMap": {},
     "title": ""
    },
    "id": "RGcFM8GR99Av"
   },
   "outputs": [],
   "source": [
    "# Essential Libraries\n",
    "import numpy as np\n",
    "import pandas as pd\n",
    "\n",
    "# Libraries for Machine Learning Process\n",
    "from sklearn.model_selection import train_test_split\n",
    "from sklearn.metrics import accuracy_score\n",
    "\n",
    "# Algorithms\n",
    "from sklearn.linear_model import LogisticRegression"
   ]
  },
  {
   "cell_type": "markdown",
   "metadata": {
    "application/vnd.databricks.v1+cell": {
     "cellMetadata": {
      "byteLimit": 2048000,
      "rowLimit": 10000
     },
     "inputWidgets": {},
     "nuid": "61276c8f-4b06-4753-b776-a7f35aa462a7",
     "showTitle": false,
     "tableResultSettingsMap": {},
     "title": ""
    },
    "id": "vHp63oGi99Ax"
   },
   "source": [
    "# 1. Read and Review Data\n",
    "\n",
    "This data has been cleaned in a previous EDA and preparation process."
   ]
  },
  {
   "cell_type": "code",
   "execution_count": 0,
   "metadata": {
    "application/vnd.databricks.v1+cell": {
     "cellMetadata": {
      "byteLimit": 2048000,
      "rowLimit": 10000
     },
     "inputWidgets": {},
     "nuid": "27f6fa24-d650-4fd3-b7a0-0b78d31be426",
     "showTitle": false,
     "tableResultSettingsMap": {},
     "title": ""
    },
    "colab": {
     "base_uri": "https://localhost:8080/",
     "height": 363
    },
    "id": "JGPNqlEh99Ay",
    "outputId": "e7acf74d-b5f9-4eb9-c3f5-953378634645"
   },
   "outputs": [],
   "source": [
    "# Read cleaned version of the data\n",
    "df = pd.read_csv('titanic_cleaned.csv')\n",
    "df.head(10)"
   ]
  },
  {
   "cell_type": "code",
   "execution_count": 0,
   "metadata": {
    "application/vnd.databricks.v1+cell": {
     "cellMetadata": {
      "byteLimit": 2048000,
      "rowLimit": 10000
     },
     "inputWidgets": {},
     "nuid": "356cb015-cf36-4d9f-a150-f0cb300e1805",
     "showTitle": false,
     "tableResultSettingsMap": {},
     "title": ""
    },
    "colab": {
     "base_uri": "https://localhost:8080/"
    },
    "id": "mXAMcpCD99Az",
    "outputId": "372e7295-afe2-4872-924f-94d58318682f"
   },
   "outputs": [],
   "source": [
    "# Dataframe fundamental info\n",
    "df.info()"
   ]
  },
  {
   "cell_type": "markdown",
   "metadata": {
    "application/vnd.databricks.v1+cell": {
     "cellMetadata": {
      "byteLimit": 2048000,
      "rowLimit": 10000
     },
     "inputWidgets": {},
     "nuid": "19e70b65-ae3f-4684-82df-2f954e8e1171",
     "showTitle": false,
     "tableResultSettingsMap": {},
     "title": ""
    },
    "id": "MVnwjqzO99Az"
   },
   "source": [
    "# 2. Prepare Data Splits"
   ]
  },
  {
   "cell_type": "code",
   "execution_count": 0,
   "metadata": {
    "application/vnd.databricks.v1+cell": {
     "cellMetadata": {
      "byteLimit": 2048000,
      "rowLimit": 10000
     },
     "inputWidgets": {},
     "nuid": "50cb8239-34c0-4eff-81f4-a21b7bcbd88e",
     "showTitle": false,
     "tableResultSettingsMap": {},
     "title": ""
    },
    "id": "W9jCChYi99A0"
   },
   "outputs": [],
   "source": [
    "# features — all columns except target variable\n",
    "features = df.drop('Survived', axis=1)\n",
    "\n",
    "# labels — only the target variable column\n",
    "labels = df['Survived']"
   ]
  },
  {
   "cell_type": "code",
   "execution_count": 0,
   "metadata": {
    "application/vnd.databricks.v1+cell": {
     "cellMetadata": {
      "byteLimit": 2048000,
      "rowLimit": 10000
     },
     "inputWidgets": {},
     "nuid": "dadd9320-b63d-4a4b-b720-29f7e0cefe55",
     "showTitle": false,
     "tableResultSettingsMap": {},
     "title": ""
    }
   },
   "outputs": [],
   "source": [
    "features"
   ]
  },
  {
   "cell_type": "code",
   "execution_count": 0,
   "metadata": {
    "application/vnd.databricks.v1+cell": {
     "cellMetadata": {
      "byteLimit": 2048000,
      "rowLimit": 10000
     },
     "inputWidgets": {},
     "nuid": "be6f1d70-fe9e-4c6b-ad6b-05e9ef507f93",
     "showTitle": false,
     "tableResultSettingsMap": {},
     "title": ""
    }
   },
   "outputs": [],
   "source": [
    "labels.head(20)"
   ]
  },
  {
   "cell_type": "code",
   "execution_count": 0,
   "metadata": {
    "application/vnd.databricks.v1+cell": {
     "cellMetadata": {
      "byteLimit": 2048000,
      "rowLimit": 10000
     },
     "inputWidgets": {},
     "nuid": "84206fe3-38df-4d59-91c2-92510da6b336",
     "showTitle": false,
     "tableResultSettingsMap": {},
     "title": ""
    },
    "colab": {
     "base_uri": "https://localhost:8080/"
    },
    "id": "YZLNvI0Go3RQ",
    "outputId": "4c07e4c6-3fab-4e3b-fb21-8161c8f0def2"
   },
   "outputs": [],
   "source": [
    "# Create Train and Test Splits\n",
    "X_train, X_test, y_train, y_test = train_test_split(features, labels, test_size=0.2, random_state=42)\n",
    "\n",
    "# Report Number and Proportion of Train and Test Features and Labels\n",
    "print(f'Train Split: {X_train.shape[0]} Records, {len(y_train)} Labels = {round(len(y_train)/len(labels), 4) * 100}%')\n",
    "print(f'Test Split: {X_test.shape[0]} Records, {len(y_test)} Labels = {round(len(y_test)/len(labels), 4) * 100}%')"
   ]
  },
  {
   "cell_type": "code",
   "execution_count": 0,
   "metadata": {
    "application/vnd.databricks.v1+cell": {
     "cellMetadata": {
      "byteLimit": 2048000,
      "rowLimit": 10000
     },
     "inputWidgets": {},
     "nuid": "f946e192-4eef-47bb-a5ee-6c4405742cc8",
     "showTitle": false,
     "tableResultSettingsMap": {},
     "title": ""
    }
   },
   "outputs": [],
   "source": [
    "X_train"
   ]
  },
  {
   "cell_type": "code",
   "execution_count": 0,
   "metadata": {
    "application/vnd.databricks.v1+cell": {
     "cellMetadata": {
      "byteLimit": 2048000,
      "rowLimit": 10000
     },
     "inputWidgets": {},
     "nuid": "00e92cab-fd14-46e1-98d0-cb72a5732286",
     "showTitle": false,
     "tableResultSettingsMap": {},
     "title": ""
    }
   },
   "outputs": [],
   "source": [
    "y_train"
   ]
  },
  {
   "cell_type": "code",
   "execution_count": 0,
   "metadata": {
    "application/vnd.databricks.v1+cell": {
     "cellMetadata": {
      "byteLimit": 2048000,
      "rowLimit": 10000
     },
     "inputWidgets": {},
     "nuid": "096985a2-b6dc-4df0-9aa8-44efe70d3a30",
     "showTitle": false,
     "tableResultSettingsMap": {},
     "title": ""
    }
   },
   "outputs": [],
   "source": [
    "y_test"
   ]
  },
  {
   "cell_type": "code",
   "execution_count": 0,
   "metadata": {
    "application/vnd.databricks.v1+cell": {
     "cellMetadata": {
      "byteLimit": 2048000,
      "rowLimit": 10000
     },
     "inputWidgets": {},
     "nuid": "7c10aa7b-2778-4754-b9e1-9feef1fd8512",
     "showTitle": false,
     "tableResultSettingsMap": {},
     "title": ""
    }
   },
   "outputs": [],
   "source": [
    "X_test"
   ]
  },
  {
   "cell_type": "markdown",
   "metadata": {
    "application/vnd.databricks.v1+cell": {
     "cellMetadata": {
      "byteLimit": 2048000,
      "rowLimit": 10000
     },
     "inputWidgets": {},
     "nuid": "b61e3305-8ca9-468d-b21a-319ebb224912",
     "showTitle": false,
     "tableResultSettingsMap": {},
     "title": ""
    },
    "id": "sHOerKL-99A1"
   },
   "source": [
    "# 3. Train Models"
   ]
  },
  {
   "cell_type": "code",
   "execution_count": 0,
   "metadata": {
    "application/vnd.databricks.v1+cell": {
     "cellMetadata": {
      "byteLimit": 2048000,
      "rowLimit": 10000
     },
     "inputWidgets": {},
     "nuid": "75b3c7a9-a6f1-42a8-8411-714572338c62",
     "showTitle": false,
     "tableResultSettingsMap": {},
     "title": ""
    },
    "colab": {
     "base_uri": "https://localhost:8080/"
    },
    "id": "dNTMeD9UtGnm",
    "outputId": "59b11cc5-7809-414b-f7f5-cbfb211860fb"
   },
   "outputs": [],
   "source": [
    "# Define the model\n",
    "model = LogisticRegression()\n",
    "\n",
    "# Train the model using the training features and labels\n",
    "model.fit(X_train, y_train)\n",
    "\n",
    "# Report trained model\n",
    "print(f'Trained and ready: {model}')"
   ]
  },
  {
   "cell_type": "markdown",
   "metadata": {
    "application/vnd.databricks.v1+cell": {
     "cellMetadata": {
      "byteLimit": 2048000,
      "rowLimit": 10000
     },
     "inputWidgets": {},
     "nuid": "0a06a030-7698-42be-b205-c3d17209e0ff",
     "showTitle": false,
     "tableResultSettingsMap": {},
     "title": ""
    },
    "id": "Ra5IbX3R99A4"
   },
   "source": [
    "# 4. Test Models"
   ]
  },
  {
   "cell_type": "code",
   "execution_count": 0,
   "metadata": {
    "application/vnd.databricks.v1+cell": {
     "cellMetadata": {
      "byteLimit": 2048000,
      "rowLimit": 10000
     },
     "inputWidgets": {},
     "nuid": "0c14bcd2-a45c-4c99-adcf-85cbeb1885dc",
     "showTitle": false,
     "tableResultSettingsMap": {},
     "title": ""
    },
    "colab": {
     "base_uri": "https://localhost:8080/"
    },
    "id": "h25gVxRatGnn",
    "outputId": "ca3bba0e-0482-4e6c-c752-ada0b3e0f8b6"
   },
   "outputs": [],
   "source": [
    "# Use the model to generate predictions for the Test split, based on its features only\n",
    "y_pred = model.predict(X_test)\n",
    "\n",
    "# Compare model's predictive performance to the provided test labels\n",
    "score = accuracy_score(y_test, y_pred) * 100\n",
    "\n",
    "# Report the model and its score\n",
    "print(model)\n",
    "print(f'  {score}')"
   ]
  },
  {
   "cell_type": "code",
   "execution_count": 0,
   "metadata": {
    "application/vnd.databricks.v1+cell": {
     "cellMetadata": {
      "byteLimit": 2048000,
      "rowLimit": 10000
     },
     "inputWidgets": {},
     "nuid": "e4f39dc6-7349-465a-b20f-aa8b76ff3966",
     "showTitle": false,
     "tableResultSettingsMap": {},
     "title": ""
    }
   },
   "outputs": [],
   "source": [
    "round(accuracy_score(y_test, y_pred) * 100,4)"
   ]
  },
  {
   "cell_type": "code",
   "execution_count": 0,
   "metadata": {
    "application/vnd.databricks.v1+cell": {
     "cellMetadata": {
      "byteLimit": 2048000,
      "rowLimit": 10000
     },
     "inputWidgets": {},
     "nuid": "039251ad-9170-4d57-9515-9e0b90f3d00e",
     "showTitle": false,
     "tableResultSettingsMap": {},
     "title": ""
    },
    "id": "4Yfsa8N599A5"
   },
   "outputs": [],
   "source": [
    "y_pred"
   ]
  },
  {
   "cell_type": "code",
   "execution_count": 0,
   "metadata": {
    "application/vnd.databricks.v1+cell": {
     "cellMetadata": {
      "byteLimit": 2048000,
      "rowLimit": 10000
     },
     "inputWidgets": {},
     "nuid": "281fc1cc-5190-49e2-bdbc-7022df127803",
     "showTitle": false,
     "tableResultSettingsMap": {},
     "title": ""
    }
   },
   "outputs": [],
   "source": [
    "y_test"
   ]
  },
  {
   "cell_type": "code",
   "execution_count": 0,
   "metadata": {
    "application/vnd.databricks.v1+cell": {
     "cellMetadata": {},
     "inputWidgets": {},
     "nuid": "ee9ca489-76d4-4638-8695-3843ba39c36d",
     "showTitle": false,
     "tableResultSettingsMap": {},
     "title": ""
    }
   },
   "outputs": [],
   "source": []
  }
 ],
 "metadata": {
  "application/vnd.databricks.v1+notebook": {
   "computePreferences": null,
   "dashboards": [],
   "environmentMetadata": null,
   "inputWidgetPreferences": null,
   "language": "python",
   "notebookMetadata": {
    "pythonIndentUnit": 4
   },
   "notebookName": "Titanic_Modeling_Basic_Exploration",
   "widgets": {}
  },
  "colab": {
   "collapsed_sections": [],
   "name": "Titanic Modeling Basic.ipynb",
   "provenance": []
  },
  "kernelspec": {
   "display_name": "Python 3 (ipykernel)",
   "language": "python",
   "name": "python3"
  },
  "language_info": {
   "name": "python"
  }
 },
 "nbformat": 4,
 "nbformat_minor": 0
}
